{
 "cells": [
  {
   "cell_type": "markdown",
   "metadata": {},
   "source": [
    "# Proposal on low risk aircraft purchase\n",
    "\n",
    "## Introduction\n",
    "\n",
    "This proposal aims to generate insights for business stakeholders in a company diversifying its portfolio into the aviation industry. Given the extensivess of the data sourced from the National Transportation Safety Booard from 1962 about civil aviation accidents and selected incidents in the United States and international waters, this proposal will focus on the data from 2000 onwards. This will provide a great balance between being recent enough to reflect modern technology and safety regulations as well as long enough to capture meaningful data relating to the accidents/incidents. The proposal looks at various\n",
    "relationships present in the data such as engine type and incidences of fatal injuries which feed into the business recommendations centered around reduced liability for the company. Finally, the report concludes highlighting additional considerations not present in the proposal that the company needs to take into account.\n",
    "\n",
    "The proposal is split into the following sections:\n",
    "\n",
    "1. Business Problem\n",
    "2. Data\n",
    "3. Methodology\n",
    "4. Business Recommendation\n",
    "5. Conclusion\n",
    "\n",
    "\n",
    "## Business Problem\n",
    "\n",
    "The company would like to expand in to new industries to diversify its portfolio. Specifically, the company is interested in purchasing and operating airplanes for commercial and private enterprises, but do not know anything about the potential risks of aircraft. This proposal will aim to determine which models of aircraft are the lowest risk for the company to start this new business endeavor as well as translate findings into actionable insights that the head of the new aviation division can use to help decide which aircraft to purchase.\n",
    "\n",
    "## Data\n",
    "Data used for this analysis is sourced from the National Transportation Safety Board that includes aviation accident data from 1962 to 2023 about civil aviation accidents and selected incidents in the United States and international waters. This data can be found in `AviationData.csv`.\n",
    "\n",
    "\n",
    "\n"
   ]
  },
  {
   "cell_type": "markdown",
   "metadata": {},
   "source": [
    "## Methodology\n",
    "We will use data cleaning, imputation, analysis, and visualizations to generate the required insights for business stakeholders. As such this section will be divided as follows:\n",
    "\n",
    "1. Importing data \n",
    "2. Dealing with missing data, unknowns and outliers in the data\n",
    "3. Analysis and visualizations\n",
    "\n",
    "\n",
    "###  1. Importing the data\n",
    "\n",
    "\n",
    "To begin, we'll start by importing all the necessary libraries needed for this analysis. These are listed below:\n",
    "\n",
    "- **Pandas** - This library will assist with the manipulation of data in the DataFrame\n",
    "- **Numpy** - This library will enable us to compute mathematical and statistical functions.\n",
    "- **Matplotlib** - This library will help us visulaize the data as part of the analysis\n",
    "- **Seaborn** - An added library whihc will build upon matplotlib to generate data visualizations.\n"
   ]
  },
  {
   "cell_type": "code",
   "execution_count": 300,
   "metadata": {},
   "outputs": [],
   "source": [
    "#import the required libraries as set below\n",
    "\n",
    "import pandas as pd # imports pandas with an alias pd\n",
    "import numpy as np  # imports numpy with an alias np\n",
    "import matplotlib.pyplot as plt # imports matplotlib.pyplot with an alias plt\n",
    "import seaborn as sns # imports seaborn with an alias sns\n",
    "\n",
    "#Ensures the graphs in the notebook display immediately below the cell that creates them\n",
    "%matplotlib inline  \n",
    " "
   ]
  },
  {
   "cell_type": "markdown",
   "metadata": {},
   "source": [
    "Now, let's get started by reading in the data from the `AviationData.csv` file and storing it the DataFrame `aviation_df`. In addition, we'll preview the data."
   ]
  },
  {
   "cell_type": "code",
   "execution_count": 301,
   "metadata": {
    "scrolled": true
   },
   "outputs": [
    {
     "data": {
      "text/html": [
       "<div>\n",
       "<style scoped>\n",
       "    .dataframe tbody tr th:only-of-type {\n",
       "        vertical-align: middle;\n",
       "    }\n",
       "\n",
       "    .dataframe tbody tr th {\n",
       "        vertical-align: top;\n",
       "    }\n",
       "\n",
       "    .dataframe thead th {\n",
       "        text-align: right;\n",
       "    }\n",
       "</style>\n",
       "<table border=\"1\" class=\"dataframe\">\n",
       "  <thead>\n",
       "    <tr style=\"text-align: right;\">\n",
       "      <th></th>\n",
       "      <th>Event.Id</th>\n",
       "      <th>Investigation.Type</th>\n",
       "      <th>Accident.Number</th>\n",
       "      <th>Event.Date</th>\n",
       "      <th>Location</th>\n",
       "      <th>Country</th>\n",
       "      <th>Latitude</th>\n",
       "      <th>Longitude</th>\n",
       "      <th>Airport.Code</th>\n",
       "      <th>Airport.Name</th>\n",
       "      <th>...</th>\n",
       "      <th>Purpose.of.flight</th>\n",
       "      <th>Air.carrier</th>\n",
       "      <th>Total.Fatal.Injuries</th>\n",
       "      <th>Total.Serious.Injuries</th>\n",
       "      <th>Total.Minor.Injuries</th>\n",
       "      <th>Total.Uninjured</th>\n",
       "      <th>Weather.Condition</th>\n",
       "      <th>Broad.phase.of.flight</th>\n",
       "      <th>Report.Status</th>\n",
       "      <th>Publication.Date</th>\n",
       "    </tr>\n",
       "  </thead>\n",
       "  <tbody>\n",
       "    <tr>\n",
       "      <th>0</th>\n",
       "      <td>20001218X45444</td>\n",
       "      <td>Accident</td>\n",
       "      <td>SEA87LA080</td>\n",
       "      <td>24/10/1948</td>\n",
       "      <td>MOOSE CREEK, ID</td>\n",
       "      <td>United States</td>\n",
       "      <td>NaN</td>\n",
       "      <td>NaN</td>\n",
       "      <td>NaN</td>\n",
       "      <td>NaN</td>\n",
       "      <td>...</td>\n",
       "      <td>Personal</td>\n",
       "      <td>NaN</td>\n",
       "      <td>2</td>\n",
       "      <td>0</td>\n",
       "      <td>0</td>\n",
       "      <td>0</td>\n",
       "      <td>UNK</td>\n",
       "      <td>Cruise</td>\n",
       "      <td>Probable Cause</td>\n",
       "      <td>NaN</td>\n",
       "    </tr>\n",
       "    <tr>\n",
       "      <th>1</th>\n",
       "      <td>20001218X45447</td>\n",
       "      <td>Accident</td>\n",
       "      <td>LAX94LA336</td>\n",
       "      <td>19/07/1962</td>\n",
       "      <td>BRIDGEPORT, CA</td>\n",
       "      <td>United States</td>\n",
       "      <td>NaN</td>\n",
       "      <td>NaN</td>\n",
       "      <td>NaN</td>\n",
       "      <td>NaN</td>\n",
       "      <td>...</td>\n",
       "      <td>Personal</td>\n",
       "      <td>NaN</td>\n",
       "      <td>4</td>\n",
       "      <td>0</td>\n",
       "      <td>0</td>\n",
       "      <td>0</td>\n",
       "      <td>UNK</td>\n",
       "      <td>Unknown</td>\n",
       "      <td>Probable Cause</td>\n",
       "      <td>19/09/1996</td>\n",
       "    </tr>\n",
       "    <tr>\n",
       "      <th>2</th>\n",
       "      <td>20061025X01555</td>\n",
       "      <td>Accident</td>\n",
       "      <td>NYC07LA005</td>\n",
       "      <td>30/08/1974</td>\n",
       "      <td>Saltville, VA</td>\n",
       "      <td>United States</td>\n",
       "      <td>36.922223</td>\n",
       "      <td>-81.878056</td>\n",
       "      <td>NaN</td>\n",
       "      <td>NaN</td>\n",
       "      <td>...</td>\n",
       "      <td>Personal</td>\n",
       "      <td>NaN</td>\n",
       "      <td>3</td>\n",
       "      <td>NaN</td>\n",
       "      <td>NaN</td>\n",
       "      <td>NaN</td>\n",
       "      <td>IMC</td>\n",
       "      <td>Cruise</td>\n",
       "      <td>Probable Cause</td>\n",
       "      <td>26/02/2007</td>\n",
       "    </tr>\n",
       "    <tr>\n",
       "      <th>3</th>\n",
       "      <td>20001218X45448</td>\n",
       "      <td>Accident</td>\n",
       "      <td>LAX96LA321</td>\n",
       "      <td>19/06/1977</td>\n",
       "      <td>EUREKA, CA</td>\n",
       "      <td>United States</td>\n",
       "      <td>NaN</td>\n",
       "      <td>NaN</td>\n",
       "      <td>NaN</td>\n",
       "      <td>NaN</td>\n",
       "      <td>...</td>\n",
       "      <td>Personal</td>\n",
       "      <td>NaN</td>\n",
       "      <td>2</td>\n",
       "      <td>0</td>\n",
       "      <td>0</td>\n",
       "      <td>0</td>\n",
       "      <td>IMC</td>\n",
       "      <td>Cruise</td>\n",
       "      <td>Probable Cause</td>\n",
       "      <td>12/09/2000</td>\n",
       "    </tr>\n",
       "    <tr>\n",
       "      <th>4</th>\n",
       "      <td>20041105X01764</td>\n",
       "      <td>Accident</td>\n",
       "      <td>CHI79FA064</td>\n",
       "      <td>02/08/1979</td>\n",
       "      <td>Canton, OH</td>\n",
       "      <td>United States</td>\n",
       "      <td>NaN</td>\n",
       "      <td>NaN</td>\n",
       "      <td>NaN</td>\n",
       "      <td>NaN</td>\n",
       "      <td>...</td>\n",
       "      <td>Personal</td>\n",
       "      <td>NaN</td>\n",
       "      <td>1</td>\n",
       "      <td>2</td>\n",
       "      <td>NaN</td>\n",
       "      <td>0</td>\n",
       "      <td>VMC</td>\n",
       "      <td>Approach</td>\n",
       "      <td>Probable Cause</td>\n",
       "      <td>16/04/1980</td>\n",
       "    </tr>\n",
       "  </tbody>\n",
       "</table>\n",
       "<p>5 rows × 31 columns</p>\n",
       "</div>"
      ],
      "text/plain": [
       "         Event.Id Investigation.Type Accident.Number  Event.Date  \\\n",
       "0  20001218X45444           Accident      SEA87LA080  24/10/1948   \n",
       "1  20001218X45447           Accident      LAX94LA336  19/07/1962   \n",
       "2  20061025X01555           Accident      NYC07LA005  30/08/1974   \n",
       "3  20001218X45448           Accident      LAX96LA321  19/06/1977   \n",
       "4  20041105X01764           Accident      CHI79FA064  02/08/1979   \n",
       "\n",
       "          Location        Country   Latitude   Longitude Airport.Code  \\\n",
       "0  MOOSE CREEK, ID  United States        NaN         NaN          NaN   \n",
       "1   BRIDGEPORT, CA  United States        NaN         NaN          NaN   \n",
       "2    Saltville, VA  United States  36.922223  -81.878056          NaN   \n",
       "3       EUREKA, CA  United States        NaN         NaN          NaN   \n",
       "4       Canton, OH  United States        NaN         NaN          NaN   \n",
       "\n",
       "  Airport.Name  ... Purpose.of.flight Air.carrier Total.Fatal.Injuries  \\\n",
       "0          NaN  ...          Personal         NaN                    2   \n",
       "1          NaN  ...          Personal         NaN                    4   \n",
       "2          NaN  ...          Personal         NaN                    3   \n",
       "3          NaN  ...          Personal         NaN                    2   \n",
       "4          NaN  ...          Personal         NaN                    1   \n",
       "\n",
       "  Total.Serious.Injuries Total.Minor.Injuries Total.Uninjured  \\\n",
       "0                      0                    0               0   \n",
       "1                      0                    0               0   \n",
       "2                    NaN                  NaN             NaN   \n",
       "3                      0                    0               0   \n",
       "4                      2                  NaN               0   \n",
       "\n",
       "  Weather.Condition Broad.phase.of.flight   Report.Status Publication.Date  \n",
       "0               UNK                Cruise  Probable Cause              NaN  \n",
       "1               UNK               Unknown  Probable Cause       19/09/1996  \n",
       "2               IMC                Cruise  Probable Cause       26/02/2007  \n",
       "3               IMC                Cruise  Probable Cause       12/09/2000  \n",
       "4               VMC              Approach  Probable Cause       16/04/1980  \n",
       "\n",
       "[5 rows x 31 columns]"
      ]
     },
     "execution_count": 301,
     "metadata": {},
     "output_type": "execute_result"
    }
   ],
   "source": [
    "aviation_df = pd.read_csv(\"AviationData.csv\", dtype='unicode') # reads in the data and specifies the data type in case \n",
    "                                                      # there are conflicting data types in a column\n",
    "aviation_df.head()                                             # Gives a preview of the top five rows of the dataframe"
   ]
  },
  {
   "cell_type": "markdown",
   "metadata": {},
   "source": [
    "####  1.1. Ensuring data has been loaded successfully\n",
    "\n",
    "We will now have a look at the dimensions of the imported data (i.e.rows and columns in  `aviation_df`)"
   ]
  },
  {
   "cell_type": "code",
   "execution_count": 302,
   "metadata": {},
   "outputs": [
    {
     "data": {
      "text/plain": [
       "(88889, 31)"
      ]
     },
     "execution_count": 302,
     "metadata": {},
     "output_type": "execute_result"
    }
   ],
   "source": [
    "# Gives us the dimensions of the dataframe\n",
    "aviation_df.shape"
   ]
  },
  {
   "cell_type": "markdown",
   "metadata": {},
   "source": [
    "Let's now have a look at the bottom five rows of the dataframe."
   ]
  },
  {
   "cell_type": "code",
   "execution_count": 303,
   "metadata": {},
   "outputs": [
    {
     "data": {
      "text/html": [
       "<div>\n",
       "<style scoped>\n",
       "    .dataframe tbody tr th:only-of-type {\n",
       "        vertical-align: middle;\n",
       "    }\n",
       "\n",
       "    .dataframe tbody tr th {\n",
       "        vertical-align: top;\n",
       "    }\n",
       "\n",
       "    .dataframe thead th {\n",
       "        text-align: right;\n",
       "    }\n",
       "</style>\n",
       "<table border=\"1\" class=\"dataframe\">\n",
       "  <thead>\n",
       "    <tr style=\"text-align: right;\">\n",
       "      <th></th>\n",
       "      <th>Event.Id</th>\n",
       "      <th>Investigation.Type</th>\n",
       "      <th>Accident.Number</th>\n",
       "      <th>Event.Date</th>\n",
       "      <th>Location</th>\n",
       "      <th>Country</th>\n",
       "      <th>Latitude</th>\n",
       "      <th>Longitude</th>\n",
       "      <th>Airport.Code</th>\n",
       "      <th>Airport.Name</th>\n",
       "      <th>...</th>\n",
       "      <th>Purpose.of.flight</th>\n",
       "      <th>Air.carrier</th>\n",
       "      <th>Total.Fatal.Injuries</th>\n",
       "      <th>Total.Serious.Injuries</th>\n",
       "      <th>Total.Minor.Injuries</th>\n",
       "      <th>Total.Uninjured</th>\n",
       "      <th>Weather.Condition</th>\n",
       "      <th>Broad.phase.of.flight</th>\n",
       "      <th>Report.Status</th>\n",
       "      <th>Publication.Date</th>\n",
       "    </tr>\n",
       "  </thead>\n",
       "  <tbody>\n",
       "    <tr>\n",
       "      <th>88884</th>\n",
       "      <td>2.02212E+13</td>\n",
       "      <td>Accident</td>\n",
       "      <td>ERA23LA093</td>\n",
       "      <td>26/12/2022</td>\n",
       "      <td>Annapolis, MD</td>\n",
       "      <td>United States</td>\n",
       "      <td>NaN</td>\n",
       "      <td>NaN</td>\n",
       "      <td>NaN</td>\n",
       "      <td>NaN</td>\n",
       "      <td>...</td>\n",
       "      <td>Personal</td>\n",
       "      <td>NaN</td>\n",
       "      <td>0</td>\n",
       "      <td>1</td>\n",
       "      <td>0</td>\n",
       "      <td>0</td>\n",
       "      <td>NaN</td>\n",
       "      <td>NaN</td>\n",
       "      <td>NaN</td>\n",
       "      <td>29/12/2022</td>\n",
       "    </tr>\n",
       "    <tr>\n",
       "      <th>88885</th>\n",
       "      <td>2.02212E+13</td>\n",
       "      <td>Accident</td>\n",
       "      <td>ERA23LA095</td>\n",
       "      <td>26/12/2022</td>\n",
       "      <td>Hampton, NH</td>\n",
       "      <td>United States</td>\n",
       "      <td>NaN</td>\n",
       "      <td>NaN</td>\n",
       "      <td>NaN</td>\n",
       "      <td>NaN</td>\n",
       "      <td>...</td>\n",
       "      <td>NaN</td>\n",
       "      <td>NaN</td>\n",
       "      <td>0</td>\n",
       "      <td>0</td>\n",
       "      <td>0</td>\n",
       "      <td>0</td>\n",
       "      <td>NaN</td>\n",
       "      <td>NaN</td>\n",
       "      <td>NaN</td>\n",
       "      <td>NaN</td>\n",
       "    </tr>\n",
       "    <tr>\n",
       "      <th>88886</th>\n",
       "      <td>2.02212E+13</td>\n",
       "      <td>Accident</td>\n",
       "      <td>WPR23LA075</td>\n",
       "      <td>26/12/2022</td>\n",
       "      <td>Payson, AZ</td>\n",
       "      <td>United States</td>\n",
       "      <td>341525N</td>\n",
       "      <td>1112021W</td>\n",
       "      <td>PAN</td>\n",
       "      <td>PAYSON</td>\n",
       "      <td>...</td>\n",
       "      <td>Personal</td>\n",
       "      <td>NaN</td>\n",
       "      <td>0</td>\n",
       "      <td>0</td>\n",
       "      <td>0</td>\n",
       "      <td>1</td>\n",
       "      <td>VMC</td>\n",
       "      <td>NaN</td>\n",
       "      <td>NaN</td>\n",
       "      <td>27/12/2022</td>\n",
       "    </tr>\n",
       "    <tr>\n",
       "      <th>88887</th>\n",
       "      <td>2.02212E+13</td>\n",
       "      <td>Accident</td>\n",
       "      <td>WPR23LA076</td>\n",
       "      <td>26/12/2022</td>\n",
       "      <td>Morgan, UT</td>\n",
       "      <td>United States</td>\n",
       "      <td>NaN</td>\n",
       "      <td>NaN</td>\n",
       "      <td>NaN</td>\n",
       "      <td>NaN</td>\n",
       "      <td>...</td>\n",
       "      <td>Personal</td>\n",
       "      <td>MC CESSNA 210N LLC</td>\n",
       "      <td>0</td>\n",
       "      <td>0</td>\n",
       "      <td>0</td>\n",
       "      <td>0</td>\n",
       "      <td>NaN</td>\n",
       "      <td>NaN</td>\n",
       "      <td>NaN</td>\n",
       "      <td>NaN</td>\n",
       "    </tr>\n",
       "    <tr>\n",
       "      <th>88888</th>\n",
       "      <td>2.02212E+13</td>\n",
       "      <td>Accident</td>\n",
       "      <td>ERA23LA097</td>\n",
       "      <td>29/12/2022</td>\n",
       "      <td>Athens, GA</td>\n",
       "      <td>United States</td>\n",
       "      <td>NaN</td>\n",
       "      <td>NaN</td>\n",
       "      <td>NaN</td>\n",
       "      <td>NaN</td>\n",
       "      <td>...</td>\n",
       "      <td>Personal</td>\n",
       "      <td>NaN</td>\n",
       "      <td>0</td>\n",
       "      <td>1</td>\n",
       "      <td>0</td>\n",
       "      <td>1</td>\n",
       "      <td>NaN</td>\n",
       "      <td>NaN</td>\n",
       "      <td>NaN</td>\n",
       "      <td>30/12/2022</td>\n",
       "    </tr>\n",
       "  </tbody>\n",
       "</table>\n",
       "<p>5 rows × 31 columns</p>\n",
       "</div>"
      ],
      "text/plain": [
       "          Event.Id Investigation.Type Accident.Number  Event.Date  \\\n",
       "88884  2.02212E+13           Accident      ERA23LA093  26/12/2022   \n",
       "88885  2.02212E+13           Accident      ERA23LA095  26/12/2022   \n",
       "88886  2.02212E+13           Accident      WPR23LA075  26/12/2022   \n",
       "88887  2.02212E+13           Accident      WPR23LA076  26/12/2022   \n",
       "88888  2.02212E+13           Accident      ERA23LA097  29/12/2022   \n",
       "\n",
       "            Location        Country Latitude Longitude Airport.Code  \\\n",
       "88884  Annapolis, MD  United States      NaN       NaN          NaN   \n",
       "88885    Hampton, NH  United States      NaN       NaN          NaN   \n",
       "88886     Payson, AZ  United States  341525N  1112021W          PAN   \n",
       "88887     Morgan, UT  United States      NaN       NaN          NaN   \n",
       "88888     Athens, GA  United States      NaN       NaN          NaN   \n",
       "\n",
       "      Airport.Name  ... Purpose.of.flight         Air.carrier  \\\n",
       "88884          NaN  ...          Personal                 NaN   \n",
       "88885          NaN  ...               NaN                 NaN   \n",
       "88886       PAYSON  ...          Personal                 NaN   \n",
       "88887          NaN  ...          Personal  MC CESSNA 210N LLC   \n",
       "88888          NaN  ...          Personal                 NaN   \n",
       "\n",
       "      Total.Fatal.Injuries Total.Serious.Injuries Total.Minor.Injuries  \\\n",
       "88884                    0                      1                    0   \n",
       "88885                    0                      0                    0   \n",
       "88886                    0                      0                    0   \n",
       "88887                    0                      0                    0   \n",
       "88888                    0                      1                    0   \n",
       "\n",
       "      Total.Uninjured Weather.Condition Broad.phase.of.flight Report.Status  \\\n",
       "88884               0               NaN                   NaN           NaN   \n",
       "88885               0               NaN                   NaN           NaN   \n",
       "88886               1               VMC                   NaN           NaN   \n",
       "88887               0               NaN                   NaN           NaN   \n",
       "88888               1               NaN                   NaN           NaN   \n",
       "\n",
       "      Publication.Date  \n",
       "88884       29/12/2022  \n",
       "88885              NaN  \n",
       "88886       27/12/2022  \n",
       "88887              NaN  \n",
       "88888       30/12/2022  \n",
       "\n",
       "[5 rows x 31 columns]"
      ]
     },
     "execution_count": 303,
     "metadata": {},
     "output_type": "execute_result"
    }
   ],
   "source": [
    "# Gives us an overview of the bottom five rows of the data\n",
    "aviation_df.tail()"
   ]
  },
  {
   "cell_type": "markdown",
   "metadata": {},
   "source": [
    "From the checks above, the dataset has been loaded successfully. The bottom row indexes are as expected (matches up with the total number of rows). \n",
    "\n",
    "Also, the structure of the bottom rows are consistent with the top five rows so no further manipulation is required on this end. Now let's look at the summary of the data set below:\n"
   ]
  },
  {
   "cell_type": "code",
   "execution_count": 304,
   "metadata": {},
   "outputs": [
    {
     "name": "stdout",
     "output_type": "stream",
     "text": [
      "<class 'pandas.core.frame.DataFrame'>\n",
      "RangeIndex: 88889 entries, 0 to 88888\n",
      "Data columns (total 31 columns):\n",
      " #   Column                  Non-Null Count  Dtype \n",
      "---  ------                  --------------  ----- \n",
      " 0   Event.Id                88889 non-null  object\n",
      " 1   Investigation.Type      88889 non-null  object\n",
      " 2   Accident.Number         88889 non-null  object\n",
      " 3   Event.Date              88889 non-null  object\n",
      " 4   Location                88837 non-null  object\n",
      " 5   Country                 88663 non-null  object\n",
      " 6   Latitude                34382 non-null  object\n",
      " 7   Longitude               34373 non-null  object\n",
      " 8   Airport.Code            50249 non-null  object\n",
      " 9   Airport.Name            52790 non-null  object\n",
      " 10  Injury.Severity         87889 non-null  object\n",
      " 11  Aircraft.damage         85695 non-null  object\n",
      " 12  Aircraft.Category       32287 non-null  object\n",
      " 13  Registration.Number     87572 non-null  object\n",
      " 14  Make                    88826 non-null  object\n",
      " 15  Model                   88797 non-null  object\n",
      " 16  Amateur.Built           88787 non-null  object\n",
      " 17  Number.of.Engines       82805 non-null  object\n",
      " 18  Engine.Type             81812 non-null  object\n",
      " 19  FAR.Description         32023 non-null  object\n",
      " 20  Schedule                12582 non-null  object\n",
      " 21  Purpose.of.flight       82697 non-null  object\n",
      " 22  Air.carrier             16648 non-null  object\n",
      " 23  Total.Fatal.Injuries    77488 non-null  object\n",
      " 24  Total.Serious.Injuries  76379 non-null  object\n",
      " 25  Total.Minor.Injuries    76956 non-null  object\n",
      " 26  Total.Uninjured         82977 non-null  object\n",
      " 27  Weather.Condition       84397 non-null  object\n",
      " 28  Broad.phase.of.flight   61724 non-null  object\n",
      " 29  Report.Status           82508 non-null  object\n",
      " 30  Publication.Date        75118 non-null  object\n",
      "dtypes: object(31)\n",
      "memory usage: 21.0+ MB\n"
     ]
    }
   ],
   "source": [
    "# Gets a concise summary of the dataframe\n",
    "aviation_df.info()"
   ]
  },
  {
   "cell_type": "markdown",
   "metadata": {},
   "source": [
    "From the summary above, we can see that all the columns are `string` data type. Moreover, columns such as `Latitude` and `Longitude` have a lot of missing entries. Thus, we need to generate a dataframe that we will use for this analysis without altering the data that has been imported already. The new dataframe will be called `modified_aviation_df`.\n",
    "\n",
    "Also column names are separated by a full stop which might make it a bit confusing when using some of the python functions later on. Therefore, we will begin by modifying the column names and replacing the full stops with underscores."
   ]
  },
  {
   "cell_type": "code",
   "execution_count": 305,
   "metadata": {},
   "outputs": [
    {
     "data": {
      "text/html": [
       "<div>\n",
       "<style scoped>\n",
       "    .dataframe tbody tr th:only-of-type {\n",
       "        vertical-align: middle;\n",
       "    }\n",
       "\n",
       "    .dataframe tbody tr th {\n",
       "        vertical-align: top;\n",
       "    }\n",
       "\n",
       "    .dataframe thead th {\n",
       "        text-align: right;\n",
       "    }\n",
       "</style>\n",
       "<table border=\"1\" class=\"dataframe\">\n",
       "  <thead>\n",
       "    <tr style=\"text-align: right;\">\n",
       "      <th></th>\n",
       "      <th>Event_Id</th>\n",
       "      <th>Investigation_Type</th>\n",
       "      <th>Accident_Number</th>\n",
       "      <th>Event_Date</th>\n",
       "      <th>Location</th>\n",
       "      <th>Country</th>\n",
       "      <th>Latitude</th>\n",
       "      <th>Longitude</th>\n",
       "      <th>Airport_Code</th>\n",
       "      <th>Airport_Name</th>\n",
       "      <th>...</th>\n",
       "      <th>Purpose_of_flight</th>\n",
       "      <th>Air_carrier</th>\n",
       "      <th>Total_Fatal_Injuries</th>\n",
       "      <th>Total_Serious_Injuries</th>\n",
       "      <th>Total_Minor_Injuries</th>\n",
       "      <th>Total_Uninjured</th>\n",
       "      <th>Weather_Condition</th>\n",
       "      <th>Broad_phase_of_flight</th>\n",
       "      <th>Report_Status</th>\n",
       "      <th>Publication_Date</th>\n",
       "    </tr>\n",
       "  </thead>\n",
       "  <tbody>\n",
       "    <tr>\n",
       "      <th>0</th>\n",
       "      <td>20001218X45444</td>\n",
       "      <td>Accident</td>\n",
       "      <td>SEA87LA080</td>\n",
       "      <td>24/10/1948</td>\n",
       "      <td>MOOSE CREEK, ID</td>\n",
       "      <td>United States</td>\n",
       "      <td>NaN</td>\n",
       "      <td>NaN</td>\n",
       "      <td>NaN</td>\n",
       "      <td>NaN</td>\n",
       "      <td>...</td>\n",
       "      <td>Personal</td>\n",
       "      <td>NaN</td>\n",
       "      <td>2</td>\n",
       "      <td>0</td>\n",
       "      <td>0</td>\n",
       "      <td>0</td>\n",
       "      <td>UNK</td>\n",
       "      <td>Cruise</td>\n",
       "      <td>Probable Cause</td>\n",
       "      <td>NaN</td>\n",
       "    </tr>\n",
       "    <tr>\n",
       "      <th>1</th>\n",
       "      <td>20001218X45447</td>\n",
       "      <td>Accident</td>\n",
       "      <td>LAX94LA336</td>\n",
       "      <td>19/07/1962</td>\n",
       "      <td>BRIDGEPORT, CA</td>\n",
       "      <td>United States</td>\n",
       "      <td>NaN</td>\n",
       "      <td>NaN</td>\n",
       "      <td>NaN</td>\n",
       "      <td>NaN</td>\n",
       "      <td>...</td>\n",
       "      <td>Personal</td>\n",
       "      <td>NaN</td>\n",
       "      <td>4</td>\n",
       "      <td>0</td>\n",
       "      <td>0</td>\n",
       "      <td>0</td>\n",
       "      <td>UNK</td>\n",
       "      <td>Unknown</td>\n",
       "      <td>Probable Cause</td>\n",
       "      <td>19/09/1996</td>\n",
       "    </tr>\n",
       "    <tr>\n",
       "      <th>2</th>\n",
       "      <td>20061025X01555</td>\n",
       "      <td>Accident</td>\n",
       "      <td>NYC07LA005</td>\n",
       "      <td>30/08/1974</td>\n",
       "      <td>Saltville, VA</td>\n",
       "      <td>United States</td>\n",
       "      <td>36.922223</td>\n",
       "      <td>-81.878056</td>\n",
       "      <td>NaN</td>\n",
       "      <td>NaN</td>\n",
       "      <td>...</td>\n",
       "      <td>Personal</td>\n",
       "      <td>NaN</td>\n",
       "      <td>3</td>\n",
       "      <td>NaN</td>\n",
       "      <td>NaN</td>\n",
       "      <td>NaN</td>\n",
       "      <td>IMC</td>\n",
       "      <td>Cruise</td>\n",
       "      <td>Probable Cause</td>\n",
       "      <td>26/02/2007</td>\n",
       "    </tr>\n",
       "    <tr>\n",
       "      <th>3</th>\n",
       "      <td>20001218X45448</td>\n",
       "      <td>Accident</td>\n",
       "      <td>LAX96LA321</td>\n",
       "      <td>19/06/1977</td>\n",
       "      <td>EUREKA, CA</td>\n",
       "      <td>United States</td>\n",
       "      <td>NaN</td>\n",
       "      <td>NaN</td>\n",
       "      <td>NaN</td>\n",
       "      <td>NaN</td>\n",
       "      <td>...</td>\n",
       "      <td>Personal</td>\n",
       "      <td>NaN</td>\n",
       "      <td>2</td>\n",
       "      <td>0</td>\n",
       "      <td>0</td>\n",
       "      <td>0</td>\n",
       "      <td>IMC</td>\n",
       "      <td>Cruise</td>\n",
       "      <td>Probable Cause</td>\n",
       "      <td>12/09/2000</td>\n",
       "    </tr>\n",
       "    <tr>\n",
       "      <th>4</th>\n",
       "      <td>20041105X01764</td>\n",
       "      <td>Accident</td>\n",
       "      <td>CHI79FA064</td>\n",
       "      <td>02/08/1979</td>\n",
       "      <td>Canton, OH</td>\n",
       "      <td>United States</td>\n",
       "      <td>NaN</td>\n",
       "      <td>NaN</td>\n",
       "      <td>NaN</td>\n",
       "      <td>NaN</td>\n",
       "      <td>...</td>\n",
       "      <td>Personal</td>\n",
       "      <td>NaN</td>\n",
       "      <td>1</td>\n",
       "      <td>2</td>\n",
       "      <td>NaN</td>\n",
       "      <td>0</td>\n",
       "      <td>VMC</td>\n",
       "      <td>Approach</td>\n",
       "      <td>Probable Cause</td>\n",
       "      <td>16/04/1980</td>\n",
       "    </tr>\n",
       "  </tbody>\n",
       "</table>\n",
       "<p>5 rows × 31 columns</p>\n",
       "</div>"
      ],
      "text/plain": [
       "         Event_Id Investigation_Type Accident_Number  Event_Date  \\\n",
       "0  20001218X45444           Accident      SEA87LA080  24/10/1948   \n",
       "1  20001218X45447           Accident      LAX94LA336  19/07/1962   \n",
       "2  20061025X01555           Accident      NYC07LA005  30/08/1974   \n",
       "3  20001218X45448           Accident      LAX96LA321  19/06/1977   \n",
       "4  20041105X01764           Accident      CHI79FA064  02/08/1979   \n",
       "\n",
       "          Location        Country   Latitude   Longitude Airport_Code  \\\n",
       "0  MOOSE CREEK, ID  United States        NaN         NaN          NaN   \n",
       "1   BRIDGEPORT, CA  United States        NaN         NaN          NaN   \n",
       "2    Saltville, VA  United States  36.922223  -81.878056          NaN   \n",
       "3       EUREKA, CA  United States        NaN         NaN          NaN   \n",
       "4       Canton, OH  United States        NaN         NaN          NaN   \n",
       "\n",
       "  Airport_Name  ... Purpose_of_flight Air_carrier Total_Fatal_Injuries  \\\n",
       "0          NaN  ...          Personal         NaN                    2   \n",
       "1          NaN  ...          Personal         NaN                    4   \n",
       "2          NaN  ...          Personal         NaN                    3   \n",
       "3          NaN  ...          Personal         NaN                    2   \n",
       "4          NaN  ...          Personal         NaN                    1   \n",
       "\n",
       "  Total_Serious_Injuries Total_Minor_Injuries Total_Uninjured  \\\n",
       "0                      0                    0               0   \n",
       "1                      0                    0               0   \n",
       "2                    NaN                  NaN             NaN   \n",
       "3                      0                    0               0   \n",
       "4                      2                  NaN               0   \n",
       "\n",
       "  Weather_Condition Broad_phase_of_flight   Report_Status Publication_Date  \n",
       "0               UNK                Cruise  Probable Cause              NaN  \n",
       "1               UNK               Unknown  Probable Cause       19/09/1996  \n",
       "2               IMC                Cruise  Probable Cause       26/02/2007  \n",
       "3               IMC                Cruise  Probable Cause       12/09/2000  \n",
       "4               VMC              Approach  Probable Cause       16/04/1980  \n",
       "\n",
       "[5 rows x 31 columns]"
      ]
     },
     "execution_count": 305,
     "metadata": {},
     "output_type": "execute_result"
    }
   ],
   "source": [
    "# Add in a code to replace the \".\" with \"_\" as the name separator in the dataframe column names\n",
    "\n",
    "modified_aviation_df = aviation_df.rename(columns=lambda name: name.replace('.', '_'))\n",
    "modified_aviation_df.head()"
   ]
  },
  {
   "cell_type": "markdown",
   "metadata": {},
   "source": [
    "\n",
    "####  1.2. Selecting data subset to be used in the proposal\n",
    "\n",
    "Now that the column names are clear, we can select the subset of data we are dealing with. As mentioned earlier we are only interested in the following columns for our analysis:\n",
    "\n",
    "- `Make`\n",
    "- `Model`\n",
    "- `Investigation_Type`\n",
    "- `Event_Date`\n",
    "- `Aircraft_damage`\n",
    "- `Amateur_Built`\n",
    "- `Number_of_Engines`\n",
    "- `Engine_Type`\n",
    "- `Purpose_of_flight`\n",
    "- `Total_Fatal_Injuries`\n",
    "- `Total_Serious_Injuries`\n",
    "- `Total_Minor_Injuries`\n",
    "- `Total_Uninjured`\n",
    "\n"
   ]
  },
  {
   "cell_type": "code",
   "execution_count": 306,
   "metadata": {},
   "outputs": [
    {
     "data": {
      "text/html": [
       "<div>\n",
       "<style scoped>\n",
       "    .dataframe tbody tr th:only-of-type {\n",
       "        vertical-align: middle;\n",
       "    }\n",
       "\n",
       "    .dataframe tbody tr th {\n",
       "        vertical-align: top;\n",
       "    }\n",
       "\n",
       "    .dataframe thead th {\n",
       "        text-align: right;\n",
       "    }\n",
       "</style>\n",
       "<table border=\"1\" class=\"dataframe\">\n",
       "  <thead>\n",
       "    <tr style=\"text-align: right;\">\n",
       "      <th></th>\n",
       "      <th>Make</th>\n",
       "      <th>Model</th>\n",
       "      <th>Investigation_Type</th>\n",
       "      <th>Event_Date</th>\n",
       "      <th>Aircraft_damage</th>\n",
       "      <th>Amateur_Built</th>\n",
       "      <th>Number_of_Engines</th>\n",
       "      <th>Engine_Type</th>\n",
       "      <th>Purpose_of_flight</th>\n",
       "      <th>Total_Fatal_Injuries</th>\n",
       "      <th>Total_Serious_Injuries</th>\n",
       "      <th>Total_Minor_Injuries</th>\n",
       "      <th>Total_Uninjured</th>\n",
       "    </tr>\n",
       "  </thead>\n",
       "  <tbody>\n",
       "    <tr>\n",
       "      <th>0</th>\n",
       "      <td>Stinson</td>\n",
       "      <td>108-3</td>\n",
       "      <td>Accident</td>\n",
       "      <td>24/10/1948</td>\n",
       "      <td>Destroyed</td>\n",
       "      <td>No</td>\n",
       "      <td>1</td>\n",
       "      <td>Reciprocating</td>\n",
       "      <td>Personal</td>\n",
       "      <td>2</td>\n",
       "      <td>0</td>\n",
       "      <td>0</td>\n",
       "      <td>0</td>\n",
       "    </tr>\n",
       "    <tr>\n",
       "      <th>1</th>\n",
       "      <td>Piper</td>\n",
       "      <td>PA24-180</td>\n",
       "      <td>Accident</td>\n",
       "      <td>19/07/1962</td>\n",
       "      <td>Destroyed</td>\n",
       "      <td>No</td>\n",
       "      <td>1</td>\n",
       "      <td>Reciprocating</td>\n",
       "      <td>Personal</td>\n",
       "      <td>4</td>\n",
       "      <td>0</td>\n",
       "      <td>0</td>\n",
       "      <td>0</td>\n",
       "    </tr>\n",
       "    <tr>\n",
       "      <th>2</th>\n",
       "      <td>Cessna</td>\n",
       "      <td>172M</td>\n",
       "      <td>Accident</td>\n",
       "      <td>30/08/1974</td>\n",
       "      <td>Destroyed</td>\n",
       "      <td>No</td>\n",
       "      <td>1</td>\n",
       "      <td>Reciprocating</td>\n",
       "      <td>Personal</td>\n",
       "      <td>3</td>\n",
       "      <td>NaN</td>\n",
       "      <td>NaN</td>\n",
       "      <td>NaN</td>\n",
       "    </tr>\n",
       "    <tr>\n",
       "      <th>3</th>\n",
       "      <td>Rockwell</td>\n",
       "      <td>112</td>\n",
       "      <td>Accident</td>\n",
       "      <td>19/06/1977</td>\n",
       "      <td>Destroyed</td>\n",
       "      <td>No</td>\n",
       "      <td>1</td>\n",
       "      <td>Reciprocating</td>\n",
       "      <td>Personal</td>\n",
       "      <td>2</td>\n",
       "      <td>0</td>\n",
       "      <td>0</td>\n",
       "      <td>0</td>\n",
       "    </tr>\n",
       "    <tr>\n",
       "      <th>4</th>\n",
       "      <td>Cessna</td>\n",
       "      <td>501</td>\n",
       "      <td>Accident</td>\n",
       "      <td>02/08/1979</td>\n",
       "      <td>Destroyed</td>\n",
       "      <td>No</td>\n",
       "      <td>NaN</td>\n",
       "      <td>NaN</td>\n",
       "      <td>Personal</td>\n",
       "      <td>1</td>\n",
       "      <td>2</td>\n",
       "      <td>NaN</td>\n",
       "      <td>0</td>\n",
       "    </tr>\n",
       "  </tbody>\n",
       "</table>\n",
       "</div>"
      ],
      "text/plain": [
       "       Make     Model Investigation_Type  Event_Date Aircraft_damage  \\\n",
       "0   Stinson     108-3           Accident  24/10/1948       Destroyed   \n",
       "1     Piper  PA24-180           Accident  19/07/1962       Destroyed   \n",
       "2    Cessna      172M           Accident  30/08/1974       Destroyed   \n",
       "3  Rockwell       112           Accident  19/06/1977       Destroyed   \n",
       "4    Cessna       501           Accident  02/08/1979       Destroyed   \n",
       "\n",
       "  Amateur_Built Number_of_Engines    Engine_Type Purpose_of_flight  \\\n",
       "0            No                 1  Reciprocating          Personal   \n",
       "1            No                 1  Reciprocating          Personal   \n",
       "2            No                 1  Reciprocating          Personal   \n",
       "3            No                 1  Reciprocating          Personal   \n",
       "4            No               NaN            NaN          Personal   \n",
       "\n",
       "  Total_Fatal_Injuries Total_Serious_Injuries Total_Minor_Injuries  \\\n",
       "0                    2                      0                    0   \n",
       "1                    4                      0                    0   \n",
       "2                    3                    NaN                  NaN   \n",
       "3                    2                      0                    0   \n",
       "4                    1                      2                  NaN   \n",
       "\n",
       "  Total_Uninjured  \n",
       "0               0  \n",
       "1               0  \n",
       "2             NaN  \n",
       "3               0  \n",
       "4               0  "
      ]
     },
     "execution_count": 306,
     "metadata": {},
     "output_type": "execute_result"
    }
   ],
   "source": [
    "#subset containing only the required columns needed\n",
    "required_cols = [\"Make\",\"Model\",\"Investigation_Type\",\"Event_Date\",\"Aircraft_damage\",\n",
    "                 \"Amateur_Built\",\"Number_of_Engines\",\"Engine_Type\",\"Purpose_of_flight\",\"Total_Fatal_Injuries\",\n",
    "                \"Total_Serious_Injuries\",\"Total_Minor_Injuries\",\"Total_Uninjured\"]\n",
    "\n",
    "modified_aviation_df_2 = modified_aviation_df[required_cols]\n",
    "modified_aviation_df_2.head()\n"
   ]
  },
  {
   "cell_type": "markdown",
   "metadata": {},
   "source": [
    "We can now deal with the missing data in our subset to be used in the analysis. Before we proceed, we will have another summary look at the modified dataframe `modified_aviation_df_2` ."
   ]
  },
  {
   "cell_type": "code",
   "execution_count": 307,
   "metadata": {},
   "outputs": [
    {
     "name": "stdout",
     "output_type": "stream",
     "text": [
      "<class 'pandas.core.frame.DataFrame'>\n",
      "RangeIndex: 88889 entries, 0 to 88888\n",
      "Data columns (total 13 columns):\n",
      " #   Column                  Non-Null Count  Dtype \n",
      "---  ------                  --------------  ----- \n",
      " 0   Make                    88826 non-null  object\n",
      " 1   Model                   88797 non-null  object\n",
      " 2   Investigation_Type      88889 non-null  object\n",
      " 3   Event_Date              88889 non-null  object\n",
      " 4   Aircraft_damage         85695 non-null  object\n",
      " 5   Amateur_Built           88787 non-null  object\n",
      " 6   Number_of_Engines       82805 non-null  object\n",
      " 7   Engine_Type             81812 non-null  object\n",
      " 8   Purpose_of_flight       82697 non-null  object\n",
      " 9   Total_Fatal_Injuries    77488 non-null  object\n",
      " 10  Total_Serious_Injuries  76379 non-null  object\n",
      " 11  Total_Minor_Injuries    76956 non-null  object\n",
      " 12  Total_Uninjured         82977 non-null  object\n",
      "dtypes: object(13)\n",
      "memory usage: 8.8+ MB\n"
     ]
    }
   ],
   "source": [
    "modified_aviation_df_2.info()"
   ]
  },
  {
   "cell_type": "markdown",
   "metadata": {},
   "source": [
    "### 2. Dealing with missing and unknown data\n",
    "\n",
    "From the summary above, the dataframe is missing a lot of values in some of the columns. We will approach this section by dividing the columns based on whether they are:\n",
    "- Categorical\n",
    "- Numerical\n",
    "\n",
    "#### 2.1. Categorical columns\n",
    "\n",
    "#####  a. Dealing with missing values\n",
    "\n",
    "We will begin by eliminating the null values in the following categorical columns as it will be a small subset of rows and hence won't have much of an impact on the analysis given the large dataset:\n",
    " - `Make`\n",
    " - `Model`\n",
    " - `Aircraft Damage`\n",
    " - `Amateur Built`\n",
    " - `Aircraft_damage`\n",
    " - `Purpose_of_flight`\n",
    " - `Engine_Type`"
   ]
  },
  {
   "cell_type": "code",
   "execution_count": 308,
   "metadata": {},
   "outputs": [
    {
     "name": "stdout",
     "output_type": "stream",
     "text": [
      "<class 'pandas.core.frame.DataFrame'>\n",
      "Int64Index: 77551 entries, 0 to 88767\n",
      "Data columns (total 13 columns):\n",
      " #   Column                  Non-Null Count  Dtype \n",
      "---  ------                  --------------  ----- \n",
      " 0   Make                    77551 non-null  object\n",
      " 1   Model                   77551 non-null  object\n",
      " 2   Investigation_Type      77551 non-null  object\n",
      " 3   Event_Date              77551 non-null  object\n",
      " 4   Aircraft_damage         77551 non-null  object\n",
      " 5   Amateur_Built           77551 non-null  object\n",
      " 6   Number_of_Engines       75873 non-null  object\n",
      " 7   Engine_Type             77551 non-null  object\n",
      " 8   Purpose_of_flight       77551 non-null  object\n",
      " 9   Total_Fatal_Injuries    68036 non-null  object\n",
      " 10  Total_Serious_Injuries  67123 non-null  object\n",
      " 11  Total_Minor_Injuries    67853 non-null  object\n",
      " 12  Total_Uninjured         72738 non-null  object\n",
      "dtypes: object(13)\n",
      "memory usage: 8.3+ MB\n"
     ]
    }
   ],
   "source": [
    "#Code to remove all the null values in the listed columns above\n",
    "\n",
    "modified_aviation_df_2 = modified_aviation_df_2.dropna(subset=[\"Make\", \"Model\",\"Amateur_Built\",\"Aircraft_damage\",\n",
    "                                                               \"Purpose_of_flight\",\"Engine_Type\"])\n",
    "\n",
    "#Get a summary of the modified dataframe to ensure that all the nulls have been eliminated in these columns\n",
    "modified_aviation_df_2.info()\n"
   ]
  },
  {
   "cell_type": "markdown",
   "metadata": {},
   "source": [
    "##### b. Dealing with unknown or duplicate values\n",
    "\n",
    "Now that we have eliminated the null values in the columns above, we need to ensure that all the entries in each of the columns are valid. To do so, we will go column by column and check that the `value_counts` line up.\n",
    "\n",
    "- `Make`\n",
    "\n",
    "This column has values which have been repeated either due to:\n",
    "   - spacing used on the entries\n",
    "   - some entries are upper case while others are lower case"
   ]
  },
  {
   "cell_type": "code",
   "execution_count": 309,
   "metadata": {},
   "outputs": [
    {
     "data": {
      "text/plain": [
       "Cessna            21542\n",
       "Piper             11701\n",
       "Beech              4139\n",
       "CESSNA             3732\n",
       "PIPER              2222\n",
       "                  ...  \n",
       "Oakes                 1\n",
       "Huntley               1\n",
       "CROFT ROBERT C        1\n",
       "Fawcett               1\n",
       "Prout                 1\n",
       "Name: Make, Length: 7572, dtype: int64"
      ]
     },
     "execution_count": 309,
     "metadata": {},
     "output_type": "execute_result"
    }
   ],
   "source": [
    "# this code generates the unique values present in make column. As can be seem there are quite a few repetitions such as\n",
    "# Cessna, Piper etc\n",
    "\n",
    "modified_aviation_df_2[\"Make\"].value_counts()"
   ]
  },
  {
   "cell_type": "markdown",
   "metadata": {},
   "source": [
    "Thus to eliminate this, we'll use the code below to strip out the white space in each of the entries and make all the entries lower case."
   ]
  },
  {
   "cell_type": "code",
   "execution_count": 310,
   "metadata": {},
   "outputs": [],
   "source": [
    "\n",
    "modified_aviation_df_2[\"Make\"]= modified_aviation_df_2[\"Make\"].str.strip() # Strips out the white space in the column entries\n",
    "\n",
    "modified_aviation_df_2[\"Make\"] = modified_aviation_df_2[\"Make\"].apply(lambda x: x.lower()) # lowers the case of column entries\n"
   ]
  },
  {
   "cell_type": "code",
   "execution_count": 311,
   "metadata": {},
   "outputs": [
    {
     "data": {
      "text/plain": [
       "cessna           25274\n",
       "piper            13923\n",
       "beech             4885\n",
       "bell              2244\n",
       "mooney            1267\n",
       "                 ...  \n",
       "gordon price         1\n",
       "arnold forest        1\n",
       "mazzon               1\n",
       "zeigler              1\n",
       "bernard              1\n",
       "Name: Make, Length: 7040, dtype: int64"
      ]
     },
     "execution_count": 311,
     "metadata": {},
     "output_type": "execute_result"
    }
   ],
   "source": [
    "#Checks and confirms that indeed the value counts are now unique\n",
    "\n",
    "make_value_counts = modified_aviation_df_2[\"Make\"].value_counts()\n",
    "make_value_counts"
   ]
  },
  {
   "cell_type": "markdown",
   "metadata": {},
   "source": [
    "One final issue arises. The value counts summary above contain names of peope or aircraft operators therefore we don't have an accurate picture of the makes of the aircraft. For this step, we will assume that any entry with a value count greater than three corresponds to a wrong entry which needs to be eliminated. To get rid of these entries we will use the code below: "
   ]
  },
  {
   "cell_type": "code",
   "execution_count": 312,
   "metadata": {},
   "outputs": [],
   "source": [
    "modified_aviation_df_2 = modified_aviation_df_2[modified_aviation_df_2[\"Make\"].isin(make_value_counts[make_value_counts > 3].index)]"
   ]
  },
  {
   "cell_type": "markdown",
   "metadata": {},
   "source": [
    "Now let's confirm that all the changes done to this column have been updated correctly. From the summary below, everything checks out now."
   ]
  },
  {
   "cell_type": "code",
   "execution_count": 313,
   "metadata": {},
   "outputs": [
    {
     "data": {
      "text/plain": [
       "cessna                    25274\n",
       "piper                     13923\n",
       "beech                      4885\n",
       "bell                       2244\n",
       "mooney                     1267\n",
       "                          ...  \n",
       "pilatus aircraft ltd          4\n",
       "liberty aerospace inc.        4\n",
       "siai marchetti                4\n",
       "sonerai                       4\n",
       "helicopteres guimbal          4\n",
       "Name: Make, Length: 576, dtype: int64"
      ]
     },
     "execution_count": 313,
     "metadata": {},
     "output_type": "execute_result"
    }
   ],
   "source": [
    "modified_aviation_df_2[\"Make\"].value_counts()"
   ]
  },
  {
   "cell_type": "markdown",
   "metadata": {},
   "source": [
    " - `Model`\n",
    " \n",
    "Entries in this column line up so no further changes need to be done to it.\n"
   ]
  },
  {
   "cell_type": "code",
   "execution_count": 314,
   "metadata": {},
   "outputs": [
    {
     "data": {
      "text/plain": [
       "152               2316\n",
       "172               1588\n",
       "172N              1125\n",
       "PA-28-140          895\n",
       "150                779\n",
       "                  ... \n",
       "PA 18-125            1\n",
       "Lightning LS-1       1\n",
       "SA 227               1\n",
       "T-28                 1\n",
       "SGS 1-23             1\n",
       "Name: Model, Length: 7312, dtype: int64"
      ]
     },
     "execution_count": 314,
     "metadata": {},
     "output_type": "execute_result"
    }
   ],
   "source": [
    "modified_aviation_df_2[\"Model\"].value_counts()"
   ]
  },
  {
   "cell_type": "markdown",
   "metadata": {},
   "source": [
    " - `Aircraft_damage`\n",
    " \n",
    "This column has a value that is \"Unknown\". As the number of entries are quite small, we will eliminate this from our analysis."
   ]
  },
  {
   "cell_type": "code",
   "execution_count": 315,
   "metadata": {},
   "outputs": [
    {
     "data": {
      "text/plain": [
       "Substantial    53483\n",
       "Destroyed      14969\n",
       "Minor           1710\n",
       "Unknown            5\n",
       "Name: Aircraft_damage, dtype: int64"
      ]
     },
     "execution_count": 315,
     "metadata": {},
     "output_type": "execute_result"
    }
   ],
   "source": [
    "#Checks the unique values in the \"Aircraft_Damage\" column\n",
    "\n",
    "modified_aviation_df_2[\"Aircraft_damage\"].value_counts()"
   ]
  },
  {
   "cell_type": "code",
   "execution_count": 316,
   "metadata": {},
   "outputs": [],
   "source": [
    "\n",
    "#filter all the unknown entries in the \"Aircraft_damage\" column\n",
    "filt = modified_aviation_df_2[\"Aircraft_damage\"] == \"Unknown\"\n",
    "\n",
    "# Code to remove the unknown entries in the Aircraft_damage column\n",
    "modified_aviation_df_2 = modified_aviation_df_2.drop(index = modified_aviation_df_2[filt].index)\n"
   ]
  },
  {
   "cell_type": "markdown",
   "metadata": {},
   "source": [
    "As we have been doing, we need to confirm that the values in the column have now been updated."
   ]
  },
  {
   "cell_type": "code",
   "execution_count": 317,
   "metadata": {},
   "outputs": [
    {
     "data": {
      "text/plain": [
       "Substantial    53483\n",
       "Destroyed      14969\n",
       "Minor           1710\n",
       "Name: Aircraft_damage, dtype: int64"
      ]
     },
     "execution_count": 317,
     "metadata": {},
     "output_type": "execute_result"
    }
   ],
   "source": [
    "modified_aviation_df_2[\"Aircraft_damage\"].value_counts()"
   ]
  },
  {
   "cell_type": "markdown",
   "metadata": {},
   "source": [
    " - `Engine_Type`\n",
    " \n",
    "This column has two values i.e. \"Unknown\"  and \"None\" (both in upper and lower case) which need to be eliminated before proceeding with any further meaningful analysis."
   ]
  },
  {
   "cell_type": "code",
   "execution_count": 318,
   "metadata": {},
   "outputs": [
    {
     "data": {
      "text/plain": [
       "Reciprocating    61458\n",
       "Turbo Shaft       3042\n",
       "Turbo Prop        2625\n",
       "Unknown           1647\n",
       "Turbo Fan          978\n",
       "Turbo Jet          403\n",
       "None                 6\n",
       "UNK                  1\n",
       "NONE                 1\n",
       "LR                   1\n",
       "Name: Engine_Type, dtype: int64"
      ]
     },
     "execution_count": 318,
     "metadata": {},
     "output_type": "execute_result"
    }
   ],
   "source": [
    "#Checks the unique values and their counts in the \"Engine_Type\" column \n",
    "\n",
    "modified_aviation_df_2[\"Engine_Type\"].value_counts()"
   ]
  },
  {
   "cell_type": "markdown",
   "metadata": {},
   "source": [
    "We will start first by ensuring all the entries are lower case as can be seen by the code box below:"
   ]
  },
  {
   "cell_type": "code",
   "execution_count": 319,
   "metadata": {},
   "outputs": [
    {
     "data": {
      "text/plain": [
       "reciprocating    61458\n",
       "turbo shaft       3042\n",
       "turbo prop        2625\n",
       "unknown           1647\n",
       "turbo fan          978\n",
       "turbo jet          403\n",
       "none                 7\n",
       "unk                  1\n",
       "lr                   1\n",
       "Name: Engine_Type, dtype: int64"
      ]
     },
     "execution_count": 319,
     "metadata": {},
     "output_type": "execute_result"
    }
   ],
   "source": [
    "#Code to change all entries in the \"Engine_Type\" column to lower-case\n",
    "\n",
    "modified_aviation_df_2[\"Engine_Type\"]= modified_aviation_df_2[\"Engine_Type\"].apply(lambda x: x.lower())\n",
    "modified_aviation_df_2[\"Engine_Type\"].value_counts()"
   ]
  },
  {
   "cell_type": "markdown",
   "metadata": {},
   "source": [
    "Now that all the entries in the `Engine_Type` column are now lower case, next steps is to eliminate all the \"unknown\" ,\"none\", \"unk\" and \"lr\" entries as shown below:"
   ]
  },
  {
   "cell_type": "code",
   "execution_count": 320,
   "metadata": {},
   "outputs": [],
   "source": [
    "\n",
    "# this filter indicates the conditions to be applied to the dataframe to remove the unwanted values\n",
    "filt_2 = (modified_aviation_df_2[\"Engine_Type\"] == \"unknown\") | (modified_aviation_df_2[\"Engine_Type\"] == \"none\")| (modified_aviation_df_2[\"Engine_Type\"] == \"unk\")  | (modified_aviation_df_2[\"Engine_Type\"] == \"lr\")\n",
    "\n",
    "#this command drops all the rows which meet the conditions set out by the filter\n",
    "modified_aviation_df_2 = modified_aviation_df_2.drop(index = modified_aviation_df_2[filt_2].index)"
   ]
  },
  {
   "cell_type": "markdown",
   "metadata": {},
   "source": [
    "Finally, we confirm that all the changes have now been made to the entries in the column."
   ]
  },
  {
   "cell_type": "code",
   "execution_count": 321,
   "metadata": {},
   "outputs": [
    {
     "data": {
      "text/plain": [
       "reciprocating    61458\n",
       "turbo shaft       3042\n",
       "turbo prop        2625\n",
       "turbo fan          978\n",
       "turbo jet          403\n",
       "Name: Engine_Type, dtype: int64"
      ]
     },
     "execution_count": 321,
     "metadata": {},
     "output_type": "execute_result"
    }
   ],
   "source": [
    "modified_aviation_df_2[\"Engine_Type\"].value_counts()"
   ]
  },
  {
   "cell_type": "markdown",
   "metadata": {},
   "source": [
    "- `Purpose_of_Flight`\n",
    "\n",
    "This column has a value that is \"Unknown\". As the the number of entries are quite small, we will eliminate them from our analysis.\n"
   ]
  },
  {
   "cell_type": "code",
   "execution_count": 322,
   "metadata": {},
   "outputs": [
    {
     "data": {
      "text/plain": [
       "Personal                     39843\n",
       "Instructional                 9650\n",
       "Unknown                       5044\n",
       "Aerial Application            4464\n",
       "Business                      3639\n",
       "Positioning                   1469\n",
       "Other Work Use                1040\n",
       "Ferry                          724\n",
       "Aerial Observation             679\n",
       "Public Aircraft                577\n",
       "Executive/corporate            485\n",
       "Flight Test                    206\n",
       "Skydiving                      164\n",
       "Banner Tow                      95\n",
       "External Load                   93\n",
       "Public Aircraft - Federal       82\n",
       "Public Aircraft - Local         66\n",
       "Public Aircraft - State         58\n",
       "Air Race show                   35\n",
       "Glider Tow                      33\n",
       "Air Race/show                   30\n",
       "Firefighting                    19\n",
       "Air Drop                         8\n",
       "PUBS                             2\n",
       "PUBL                             1\n",
       "Name: Purpose_of_flight, dtype: int64"
      ]
     },
     "execution_count": 322,
     "metadata": {},
     "output_type": "execute_result"
    }
   ],
   "source": [
    "modified_aviation_df_2[\"Purpose_of_flight\"].value_counts()"
   ]
  },
  {
   "cell_type": "code",
   "execution_count": 323,
   "metadata": {},
   "outputs": [],
   "source": [
    "#filter rows where there are unknown entries in the \"Purpose_of_flight\" column\n",
    "filt_3 = modified_aviation_df_2[\"Purpose_of_flight\"] == \"Unknown\"\n",
    "\n",
    "#this command drops all the rows which meet the conditions set out by the filter\n",
    "modified_aviation_df_2 = modified_aviation_df_2.drop(index = modified_aviation_df_2[filt_3].index)\n"
   ]
  },
  {
   "cell_type": "code",
   "execution_count": 324,
   "metadata": {},
   "outputs": [
    {
     "data": {
      "text/plain": [
       "Personal                     39843\n",
       "Instructional                 9650\n",
       "Aerial Application            4464\n",
       "Business                      3639\n",
       "Positioning                   1469\n",
       "Other Work Use                1040\n",
       "Ferry                          724\n",
       "Aerial Observation             679\n",
       "Public Aircraft                577\n",
       "Executive/corporate            485\n",
       "Flight Test                    206\n",
       "Skydiving                      164\n",
       "Banner Tow                      95\n",
       "External Load                   93\n",
       "Public Aircraft - Federal       82\n",
       "Public Aircraft - Local         66\n",
       "Public Aircraft - State         58\n",
       "Air Race show                   35\n",
       "Glider Tow                      33\n",
       "Air Race/show                   30\n",
       "Firefighting                    19\n",
       "Air Drop                         8\n",
       "PUBS                             2\n",
       "PUBL                             1\n",
       "Name: Purpose_of_flight, dtype: int64"
      ]
     },
     "execution_count": 324,
     "metadata": {},
     "output_type": "execute_result"
    }
   ],
   "source": [
    "modified_aviation_df_2[\"Purpose_of_flight\"].value_counts()"
   ]
  },
  {
   "cell_type": "markdown",
   "metadata": {},
   "source": [
    "The remaining categorical columns do not have any issues so we are good to proceed to the numerical columns. \n",
    "\n",
    "Before that, let's get a summary of the dataframe to ensure that the data lines up as expected. We can observe that all the columns modified have all been updated correctly and we are now left with the numerical columns to be tackled in the section below."
   ]
  },
  {
   "cell_type": "code",
   "execution_count": 325,
   "metadata": {},
   "outputs": [
    {
     "name": "stdout",
     "output_type": "stream",
     "text": [
      "<class 'pandas.core.frame.DataFrame'>\n",
      "Int64Index: 63462 entries, 0 to 88767\n",
      "Data columns (total 13 columns):\n",
      " #   Column                  Non-Null Count  Dtype \n",
      "---  ------                  --------------  ----- \n",
      " 0   Make                    63462 non-null  object\n",
      " 1   Model                   63462 non-null  object\n",
      " 2   Investigation_Type      63462 non-null  object\n",
      " 3   Event_Date              63462 non-null  object\n",
      " 4   Aircraft_damage         63462 non-null  object\n",
      " 5   Amateur_Built           63462 non-null  object\n",
      " 6   Number_of_Engines       63044 non-null  object\n",
      " 7   Engine_Type             63462 non-null  object\n",
      " 8   Purpose_of_flight       63462 non-null  object\n",
      " 9   Total_Fatal_Injuries    55242 non-null  object\n",
      " 10  Total_Serious_Injuries  54530 non-null  object\n",
      " 11  Total_Minor_Injuries    55203 non-null  object\n",
      " 12  Total_Uninjured         59655 non-null  object\n",
      "dtypes: object(13)\n",
      "memory usage: 6.8+ MB\n"
     ]
    }
   ],
   "source": [
    "\n",
    "modified_aviation_df_2.info() #provided a summary of the updated dataframe"
   ]
  },
  {
   "cell_type": "markdown",
   "metadata": {},
   "source": [
    "####  2.2. Numerical Columns\n",
    "\n",
    "From the summary above, we can observe that all the column types are of datatype \"object\". However, there are certain columns such as `Event_date`, `Total_Fatal_Injuries`, `Total_Serious_Injuries`, `Total_Minor_Injuries` and `Total_Uninjured` which have been classified as `object` but need to be `float` or `datetime` data types. \n",
    "\n",
    "##### a. Converting the data types of the numerical columns\n",
    "\n",
    "We will convert the following listed columns to the \"Float\" datatype:\n",
    "\n",
    "- `Total_Fatal_Injuries` \n",
    "- `Total_Serious_Injuries`\n",
    "- `Total_Minor_Injuries`\n",
    "- `Total_Uninjured`\n",
    "- `Number_of_Engines`"
   ]
  },
  {
   "cell_type": "code",
   "execution_count": 326,
   "metadata": {},
   "outputs": [],
   "source": [
    "\n",
    "#These set of codes convert the columns listed to float dtype\n",
    "\n",
    "#converts \"Total_Fatal_Injuries\" to float dtype\n",
    "modified_aviation_df_2['Total_Fatal_Injuries']=pd.to_numeric(modified_aviation_df_2[\"Total_Fatal_Injuries\"], errors='coerce') \n",
    "\n",
    "#converts \"Total_Serious_Injuries\" to float dtype\n",
    "modified_aviation_df_2['Total_Serious_Injuries']=pd.to_numeric(modified_aviation_df_2[\"Total_Serious_Injuries\"], errors='coerce') \n",
    "\n",
    "#converts \"Total_Minor_Injuries\" to float dtype\n",
    "modified_aviation_df_2['Total_Minor_Injuries']=pd.to_numeric(modified_aviation_df_2[\"Total_Minor_Injuries\"], errors='coerce') \n",
    "\n",
    "#converts \"Total_Uninjured\" to float dtype\n",
    "modified_aviation_df_2['Total_Uninjured']=pd.to_numeric(modified_aviation_df_2[\"Total_Uninjured\"], errors='coerce') \n",
    "\n",
    "#converts \"Number_of_Engines\" to float dtype\n",
    "modified_aviation_df_2['Number_of_Engines']=pd.to_numeric(modified_aviation_df_2[\"Number_of_Engines\"], errors='coerce')\n"
   ]
  },
  {
   "cell_type": "markdown",
   "metadata": {},
   "source": [
    "Next step is to convert the `Event_Date` column to datetime format as shown below:"
   ]
  },
  {
   "cell_type": "code",
   "execution_count": 327,
   "metadata": {},
   "outputs": [],
   "source": [
    "#converts \"Event_Date\" column to date time format\n",
    "\n",
    "modified_aviation_df_2[\"Event_Date\"] = pd.to_datetime(modified_aviation_df_2[\"Event_Date\"]) "
   ]
  },
  {
   "cell_type": "markdown",
   "metadata": {},
   "source": [
    "Now, we need to check that all the data type changes have been updated:"
   ]
  },
  {
   "cell_type": "code",
   "execution_count": 328,
   "metadata": {},
   "outputs": [
    {
     "name": "stdout",
     "output_type": "stream",
     "text": [
      "<class 'pandas.core.frame.DataFrame'>\n",
      "Int64Index: 63462 entries, 0 to 88767\n",
      "Data columns (total 13 columns):\n",
      " #   Column                  Non-Null Count  Dtype         \n",
      "---  ------                  --------------  -----         \n",
      " 0   Make                    63462 non-null  object        \n",
      " 1   Model                   63462 non-null  object        \n",
      " 2   Investigation_Type      63462 non-null  object        \n",
      " 3   Event_Date              63462 non-null  datetime64[ns]\n",
      " 4   Aircraft_damage         63462 non-null  object        \n",
      " 5   Amateur_Built           63462 non-null  object        \n",
      " 6   Number_of_Engines       63044 non-null  float64       \n",
      " 7   Engine_Type             63462 non-null  object        \n",
      " 8   Purpose_of_flight       63462 non-null  object        \n",
      " 9   Total_Fatal_Injuries    55242 non-null  float64       \n",
      " 10  Total_Serious_Injuries  54530 non-null  float64       \n",
      " 11  Total_Minor_Injuries    55203 non-null  float64       \n",
      " 12  Total_Uninjured         59655 non-null  float64       \n",
      "dtypes: datetime64[ns](1), float64(5), object(7)\n",
      "memory usage: 6.8+ MB\n"
     ]
    }
   ],
   "source": [
    "# Gives a summary overview of teh columns and their corresponding datatypes\n",
    "modified_aviation_df_2.info()"
   ]
  },
  {
   "cell_type": "markdown",
   "metadata": {},
   "source": [
    "The datatypes are now aligned and we can now proceed with dealing with null values. \n",
    "\n",
    "##### b. Dealing with missing values\n",
    "\n",
    "As a start we need to check and identify the columns having the missing values."
   ]
  },
  {
   "cell_type": "code",
   "execution_count": 329,
   "metadata": {},
   "outputs": [
    {
     "data": {
      "text/plain": [
       "Make                         0\n",
       "Model                        0\n",
       "Investigation_Type           0\n",
       "Event_Date                   0\n",
       "Aircraft_damage              0\n",
       "Amateur_Built                0\n",
       "Number_of_Engines          418\n",
       "Engine_Type                  0\n",
       "Purpose_of_flight            0\n",
       "Total_Fatal_Injuries      8220\n",
       "Total_Serious_Injuries    8932\n",
       "Total_Minor_Injuries      8259\n",
       "Total_Uninjured           3807\n",
       "dtype: int64"
      ]
     },
     "execution_count": 329,
     "metadata": {},
     "output_type": "execute_result"
    }
   ],
   "source": [
    "#Gives a summary of the total null values present in ouur dataset\n",
    "\n",
    "modified_aviation_df_2.isna().sum()"
   ]
  },
  {
   "cell_type": "markdown",
   "metadata": {},
   "source": [
    "The numerical columns seem to have a sizeable number of missing values. `Total_Serious_Injuries` looks to be leading with the highest number of missing values while `Number_of_Engines` has the least. \n",
    "\n",
    "As we don't want to lose a sizeable chunk of the data, we are going to replace the missing data with the most appropriate central measure of tendency. To determine the best measure of central tendency, we will first begin by checking for outliers.\n",
    "\n",
    "- **Check for outliers**\n",
    "\n",
    "We will create a new dataframe and call it `modified_aviation_df_3` . Within this dataframe, we will include only the columns with null values. The main reason for doing this analysis separately is to allow us to calculate the appropriate measure of central tendency without having to alter the already cleaned data thus far."
   ]
  },
  {
   "cell_type": "code",
   "execution_count": 330,
   "metadata": {},
   "outputs": [
    {
     "data": {
      "text/html": [
       "<div>\n",
       "<style scoped>\n",
       "    .dataframe tbody tr th:only-of-type {\n",
       "        vertical-align: middle;\n",
       "    }\n",
       "\n",
       "    .dataframe tbody tr th {\n",
       "        vertical-align: top;\n",
       "    }\n",
       "\n",
       "    .dataframe thead th {\n",
       "        text-align: right;\n",
       "    }\n",
       "</style>\n",
       "<table border=\"1\" class=\"dataframe\">\n",
       "  <thead>\n",
       "    <tr style=\"text-align: right;\">\n",
       "      <th></th>\n",
       "      <th>Number_of_Engines</th>\n",
       "      <th>Total_Fatal_Injuries</th>\n",
       "      <th>Total_Serious_Injuries</th>\n",
       "      <th>Total_Minor_Injuries</th>\n",
       "      <th>Total_Uninjured</th>\n",
       "    </tr>\n",
       "  </thead>\n",
       "  <tbody>\n",
       "    <tr>\n",
       "      <th>0</th>\n",
       "      <td>1.0</td>\n",
       "      <td>2.0</td>\n",
       "      <td>0.0</td>\n",
       "      <td>0.0</td>\n",
       "      <td>0.0</td>\n",
       "    </tr>\n",
       "    <tr>\n",
       "      <th>1</th>\n",
       "      <td>1.0</td>\n",
       "      <td>4.0</td>\n",
       "      <td>0.0</td>\n",
       "      <td>0.0</td>\n",
       "      <td>0.0</td>\n",
       "    </tr>\n",
       "    <tr>\n",
       "      <th>2</th>\n",
       "      <td>1.0</td>\n",
       "      <td>3.0</td>\n",
       "      <td>NaN</td>\n",
       "      <td>NaN</td>\n",
       "      <td>NaN</td>\n",
       "    </tr>\n",
       "    <tr>\n",
       "      <th>3</th>\n",
       "      <td>1.0</td>\n",
       "      <td>2.0</td>\n",
       "      <td>0.0</td>\n",
       "      <td>0.0</td>\n",
       "      <td>0.0</td>\n",
       "    </tr>\n",
       "    <tr>\n",
       "      <th>6</th>\n",
       "      <td>1.0</td>\n",
       "      <td>4.0</td>\n",
       "      <td>0.0</td>\n",
       "      <td>0.0</td>\n",
       "      <td>0.0</td>\n",
       "    </tr>\n",
       "  </tbody>\n",
       "</table>\n",
       "</div>"
      ],
      "text/plain": [
       "   Number_of_Engines  Total_Fatal_Injuries  Total_Serious_Injuries  \\\n",
       "0                1.0                   2.0                     0.0   \n",
       "1                1.0                   4.0                     0.0   \n",
       "2                1.0                   3.0                     NaN   \n",
       "3                1.0                   2.0                     0.0   \n",
       "6                1.0                   4.0                     0.0   \n",
       "\n",
       "   Total_Minor_Injuries  Total_Uninjured  \n",
       "0                   0.0              0.0  \n",
       "1                   0.0              0.0  \n",
       "2                   NaN              NaN  \n",
       "3                   0.0              0.0  \n",
       "6                   0.0              0.0  "
      ]
     },
     "execution_count": 330,
     "metadata": {},
     "output_type": "execute_result"
    }
   ],
   "source": [
    "#Generates a new dataframe separate from the one we have been working on\n",
    "\n",
    "modified_aviation_df_3 = modified_aviation_df_2[[\"Number_of_Engines\",\"Total_Fatal_Injuries\",\"Total_Serious_Injuries\",\n",
    "                                               \"Total_Minor_Injuries\",\"Total_Uninjured\"]]\n",
    "\n",
    "modified_aviation_df_3.head()                   #Top 5 entries of the newly generated datafra,e \n",
    "\n"
   ]
  },
  {
   "cell_type": "markdown",
   "metadata": {},
   "source": [
    "We will now proceed with removing all the null values in the dataframe and obtain the summary statistics."
   ]
  },
  {
   "cell_type": "code",
   "execution_count": 331,
   "metadata": {},
   "outputs": [],
   "source": [
    "#Removes all the null values in the DataFrame\n",
    "\n",
    "modified_aviation_df_3 = modified_aviation_df_3.dropna()"
   ]
  },
  {
   "cell_type": "code",
   "execution_count": 332,
   "metadata": {},
   "outputs": [
    {
     "data": {
      "text/html": [
       "<div>\n",
       "<style scoped>\n",
       "    .dataframe tbody tr th:only-of-type {\n",
       "        vertical-align: middle;\n",
       "    }\n",
       "\n",
       "    .dataframe tbody tr th {\n",
       "        vertical-align: top;\n",
       "    }\n",
       "\n",
       "    .dataframe thead th {\n",
       "        text-align: right;\n",
       "    }\n",
       "</style>\n",
       "<table border=\"1\" class=\"dataframe\">\n",
       "  <thead>\n",
       "    <tr style=\"text-align: right;\">\n",
       "      <th></th>\n",
       "      <th>Number_of_Engines</th>\n",
       "      <th>Total_Fatal_Injuries</th>\n",
       "      <th>Total_Serious_Injuries</th>\n",
       "      <th>Total_Minor_Injuries</th>\n",
       "      <th>Total_Uninjured</th>\n",
       "    </tr>\n",
       "  </thead>\n",
       "  <tbody>\n",
       "    <tr>\n",
       "      <th>count</th>\n",
       "      <td>52966.000000</td>\n",
       "      <td>52966.000000</td>\n",
       "      <td>52966.000000</td>\n",
       "      <td>52966.000000</td>\n",
       "      <td>52966.000000</td>\n",
       "    </tr>\n",
       "    <tr>\n",
       "      <th>mean</th>\n",
       "      <td>1.100310</td>\n",
       "      <td>0.334932</td>\n",
       "      <td>0.195541</td>\n",
       "      <td>0.247574</td>\n",
       "      <td>1.133671</td>\n",
       "    </tr>\n",
       "    <tr>\n",
       "      <th>std</th>\n",
       "      <td>0.310125</td>\n",
       "      <td>0.942732</td>\n",
       "      <td>0.561716</td>\n",
       "      <td>0.703950</td>\n",
       "      <td>2.582346</td>\n",
       "    </tr>\n",
       "    <tr>\n",
       "      <th>min</th>\n",
       "      <td>0.000000</td>\n",
       "      <td>0.000000</td>\n",
       "      <td>0.000000</td>\n",
       "      <td>0.000000</td>\n",
       "      <td>0.000000</td>\n",
       "    </tr>\n",
       "    <tr>\n",
       "      <th>25%</th>\n",
       "      <td>1.000000</td>\n",
       "      <td>0.000000</td>\n",
       "      <td>0.000000</td>\n",
       "      <td>0.000000</td>\n",
       "      <td>0.000000</td>\n",
       "    </tr>\n",
       "    <tr>\n",
       "      <th>50%</th>\n",
       "      <td>1.000000</td>\n",
       "      <td>0.000000</td>\n",
       "      <td>0.000000</td>\n",
       "      <td>0.000000</td>\n",
       "      <td>1.000000</td>\n",
       "    </tr>\n",
       "    <tr>\n",
       "      <th>75%</th>\n",
       "      <td>1.000000</td>\n",
       "      <td>0.000000</td>\n",
       "      <td>0.000000</td>\n",
       "      <td>0.000000</td>\n",
       "      <td>2.000000</td>\n",
       "    </tr>\n",
       "    <tr>\n",
       "      <th>max</th>\n",
       "      <td>4.000000</td>\n",
       "      <td>82.000000</td>\n",
       "      <td>17.000000</td>\n",
       "      <td>62.000000</td>\n",
       "      <td>412.000000</td>\n",
       "    </tr>\n",
       "  </tbody>\n",
       "</table>\n",
       "</div>"
      ],
      "text/plain": [
       "       Number_of_Engines  Total_Fatal_Injuries  Total_Serious_Injuries  \\\n",
       "count       52966.000000          52966.000000            52966.000000   \n",
       "mean            1.100310              0.334932                0.195541   \n",
       "std             0.310125              0.942732                0.561716   \n",
       "min             0.000000              0.000000                0.000000   \n",
       "25%             1.000000              0.000000                0.000000   \n",
       "50%             1.000000              0.000000                0.000000   \n",
       "75%             1.000000              0.000000                0.000000   \n",
       "max             4.000000             82.000000               17.000000   \n",
       "\n",
       "       Total_Minor_Injuries  Total_Uninjured  \n",
       "count          52966.000000     52966.000000  \n",
       "mean               0.247574         1.133671  \n",
       "std                0.703950         2.582346  \n",
       "min                0.000000         0.000000  \n",
       "25%                0.000000         0.000000  \n",
       "50%                0.000000         1.000000  \n",
       "75%                0.000000         2.000000  \n",
       "max               62.000000       412.000000  "
      ]
     },
     "execution_count": 332,
     "metadata": {},
     "output_type": "execute_result"
    }
   ],
   "source": [
    "#Code to generate the summary statistics of the Dataframe\n",
    "\n",
    "modified_aviation_df_3.describe()"
   ]
  },
  {
   "cell_type": "markdown",
   "metadata": {},
   "source": [
    "Once we've dropped the null entries, we can see that all these columns are positively skewed. Also the difference between the min and max entries is quite large in all the columns . From this initial analysis, it seems the median would be the best substitute for these missing values but we will have a look at box plots and histograms of these columns just to be sure\n",
    "\n",
    "- `Number_of_Engines` **and** `Total_Fatal_Injuries`\n",
    "\n",
    "For these columns, we will look at histograms of the column data to observe the distribution. It does seem that majority of the entries are centered around the median and that no significant outliers are present."
   ]
  },
  {
   "cell_type": "code",
   "execution_count": 333,
   "metadata": {},
   "outputs": [
    {
     "data": {
      "image/png": "[encoded data removed]",
      "text/plain": [
       "<Figure size 864x576 with 1 Axes>"
      ]
     },
     "metadata": {
      "needs_background": "light"
     },
     "output_type": "display_data"
    }
   ],
   "source": [
    "fig, ax = plt.subplots(figsize = (12,8))\n",
    "\n",
    "ax.hist(modified_aviation_df_3[\"Number_of_Engines\"],bins = 10) #Plots the histogram with bins =10\n",
    "ax.set_title(\"Distribution of the Number of Engines\")          #Inputs the title\n",
    "ax.set_xlabel(\"Number of Engines\")                             #Inputs the x-axis label  \n",
    "ax.set_ylabel(\"Count\");                                        #Inputs the y-axis label\n"
   ]
  },
  {
   "cell_type": "code",
   "execution_count": 334,
   "metadata": {},
   "outputs": [
    {
     "data": {
      "text/plain": [
       "''"
      ]
     },
     "execution_count": 334,
     "metadata": {},
     "output_type": "execute_result"
    },
    {
     "data": {
      "image/png": "[encoded data removed]",
      "text/plain": [
       "<Figure size 864x576 with 1 Axes>"
      ]
     },
     "metadata": {
      "needs_background": "light"
     },
     "output_type": "display_data"
    }
   ],
   "source": [
    "fig, ax = plt.subplots(figsize = (12,8))\n",
    "\n",
    "ax.hist(modified_aviation_df_3[\"Total_Fatal_Injuries\"],bins = 100) #Plots the histogram with bins =50\n",
    "ax.set_title(\"Distribution of Total Fatal Injuries\")               #Inputs the title\n",
    "ax.set_xlabel(\"Number of Fatal Injuries\")                          #Inputs the x-axis label  \n",
    "ax.set_ylabel(\"Count\");                                            #Inputs the y-axis label\n",
    "\n",
    ";"
   ]
  },
  {
   "cell_type": "markdown",
   "metadata": {},
   "source": [
    " - `Total_Minor_Injuries` **and** `Total_Uninjured`\n",
    " \n",
    " With these two columns, we'll proceed differently and check the boxplots for outliers and if the data is positively skewed. Due to the large difference between the maximum and minimum values, it can be observed that the box plot values are centered around the median with a few outliers present which do not alter the distribution of the columns significantly. "
   ]
  },
  {
   "cell_type": "code",
   "execution_count": 335,
   "metadata": {},
   "outputs": [
    {
     "data": {
      "text/plain": [
       "''"
      ]
     },
     "execution_count": 335,
     "metadata": {},
     "output_type": "execute_result"
    },
    {
     "data": {
      "image/png": "[encoded data removed]",
      "text/plain": [
       "<Figure size 864x576 with 1 Axes>"
      ]
     },
     "metadata": {
      "needs_background": "light"
     },
     "output_type": "display_data"
    }
   ],
   "source": [
    "fig, ax = plt.subplots(figsize = (12,8))\n",
    "\n",
    "ax.boxplot(modified_aviation_df_3[\"Total_Minor_Injuries\"])\n",
    "ax.set_title(\"Box Plot of Total Minor Injuries\")\n",
    ";"
   ]
  },
  {
   "cell_type": "code",
   "execution_count": 336,
   "metadata": {},
   "outputs": [
    {
     "data": {
      "image/png": "[encoded data removed]",
      "text/plain": [
       "<Figure size 864x576 with 1 Axes>"
      ]
     },
     "metadata": {
      "needs_background": "light"
     },
     "output_type": "display_data"
    }
   ],
   "source": [
    "fig, ax = plt.subplots(figsize = (12,8))\n",
    "\n",
    "ax.boxplot(modified_aviation_df_3[\"Total_Uninjured\"])\n",
    "ax.set_title(\"Box Plot of Total Uninjured\");"
   ]
  },
  {
   "cell_type": "markdown",
   "metadata": {},
   "source": [
    "Given the findings from the summary table above as well as the boxplots and histographs, we will proceed with replacing all the null values in our numerical columns with their corresponding median. To do so, we will go back to the dataframe `modified aviation_2` which contained our null values and fill them with the median value."
   ]
  },
  {
   "cell_type": "code",
   "execution_count": 337,
   "metadata": {},
   "outputs": [],
   "source": [
    "#fill na with median of the values:\n",
    "\n",
    "#fill na in the \"Number_of_Engines\" column with the median value of this column\n",
    "modified_aviation_df_2['Number_of_Engines']=modified_aviation_df_2[\"Number_of_Engines\"].fillna(modified_aviation_df_2[\"Number_of_Engines\"].median())\n",
    "\n",
    "#fill na in the \"Total_Fatal_Injuries\" column with the median in this column\n",
    "modified_aviation_df_2['Total_Fatal_Injuries']=modified_aviation_df_2[\"Total_Fatal_Injuries\"].fillna(modified_aviation_df_2[\"Total_Fatal_Injuries\"].median())\n",
    "\n",
    "#fill na in the \"Total_Serious_Injuries\" column with the median in this column\n",
    "modified_aviation_df_2['Total_Serious_Injuries']=modified_aviation_df_2[\"Total_Serious_Injuries\"].fillna(modified_aviation_df_2[\"Total_Serious_Injuries\"].median())\n",
    "\n",
    "#fill na in the \"Total_Minor_Injuries\" column with the median in this column\n",
    "modified_aviation_df_2['Total_Minor_Injuries']=modified_aviation_df_2[\"Total_Minor_Injuries\"].fillna(modified_aviation_df_2[\"Total_Minor_Injuries\"].median())\n",
    "\n",
    "#fill na in the \"Total_Uninjured\" column with the median in this column\n",
    "modified_aviation_df_2['Total_Uninjured']=modified_aviation_df_2[\"Total_Uninjured\"].fillna(modified_aviation_df_2[\"Total_Uninjured\"].median())\n",
    "\n"
   ]
  },
  {
   "cell_type": "markdown",
   "metadata": {},
   "source": [
    "Finally, let's check that these changes have been effected. From the summary below, we can observe that all the columns are now updated with the changes and the data is now ready for analysis."
   ]
  },
  {
   "cell_type": "code",
   "execution_count": 338,
   "metadata": {},
   "outputs": [
    {
     "name": "stdout",
     "output_type": "stream",
     "text": [
      "<class 'pandas.core.frame.DataFrame'>\n",
      "Int64Index: 63462 entries, 0 to 88767\n",
      "Data columns (total 13 columns):\n",
      " #   Column                  Non-Null Count  Dtype         \n",
      "---  ------                  --------------  -----         \n",
      " 0   Make                    63462 non-null  object        \n",
      " 1   Model                   63462 non-null  object        \n",
      " 2   Investigation_Type      63462 non-null  object        \n",
      " 3   Event_Date              63462 non-null  datetime64[ns]\n",
      " 4   Aircraft_damage         63462 non-null  object        \n",
      " 5   Amateur_Built           63462 non-null  object        \n",
      " 6   Number_of_Engines       63462 non-null  float64       \n",
      " 7   Engine_Type             63462 non-null  object        \n",
      " 8   Purpose_of_flight       63462 non-null  object        \n",
      " 9   Total_Fatal_Injuries    63462 non-null  float64       \n",
      " 10  Total_Serious_Injuries  63462 non-null  float64       \n",
      " 11  Total_Minor_Injuries    63462 non-null  float64       \n",
      " 12  Total_Uninjured         63462 non-null  float64       \n",
      "dtypes: datetime64[ns](1), float64(5), object(7)\n",
      "memory usage: 6.8+ MB\n"
     ]
    }
   ],
   "source": [
    "modified_aviation_df_2.info()"
   ]
  },
  {
   "cell_type": "markdown",
   "metadata": {},
   "source": [
    "### 3. Analysis and Visualizations"
   ]
  },
  {
   "cell_type": "markdown",
   "metadata": {},
   "source": [
    "Now that the data has been cleaned, we will now proceed with the analysis. As the data spans a long period i.e. 1962 -2023, we need to have a look at how the aviation accidents are spread out during this period. Also, this will determine the appropriate time frame to base our study on. To assist us with this we will plot the following graphs:\n",
    "\n",
    "- Time series of total injuries( fatal, serious and minor)\n",
    "- Time series of total uninjured"
   ]
  },
  {
   "cell_type": "code",
   "execution_count": 339,
   "metadata": {},
   "outputs": [
    {
     "data": {
      "text/plain": [
       "<matplotlib.legend.Legend at 0x220bda4edc0>"
      ]
     },
     "execution_count": 339,
     "metadata": {},
     "output_type": "execute_result"
    },
    {
     "data": {
      "image/png": "[encoded data removed]",
      "text/plain": [
       "<Figure size 1080x576 with 1 Axes>"
      ]
     },
     "metadata": {
      "needs_background": "light"
     },
     "output_type": "display_data"
    }
   ],
   "source": [
    "#Time series plot showing the trend of  different aviation injuries over time\n",
    "\n",
    "fig,ax  = plt.subplots(figsize = (15,8))\n",
    "\n",
    "\n",
    "ax.plot(modified_aviation_df_2[\"Event_Date\"],modified_aviation_df_2[\"Total_Fatal_Injuries\"], color='orange', label='Total_Fatal_Injuries')\n",
    "ax.plot(modified_aviation_df_2[\"Event_Date\"],modified_aviation_df_2 [\"Total_Serious_Injuries\"], color='blue', label='Total_Serious_Injuries')\n",
    "ax.plot(modified_aviation_df_2[\"Event_Date\"],modified_aviation_df_2[\"Total_Minor_Injuries\"], label='Total_Minor_Injuries', color='green')\n",
    "\n",
    "ax.set_title(\"Trend of different categories of aircraft injuries\")\n",
    "ax.set_xlabel(\"Year\")\n",
    "ax.set_ylabel(\"No of Injuries\")\n",
    "ax.legend();"
   ]
  },
  {
   "cell_type": "markdown",
   "metadata": {},
   "source": [
    "From the graph above, it seems that there were a lot more aviation accidents/incidents in the 1980s to the late 1990s which resulted in higher fatal and serious injuries. This trend seems to have changed at the turn of the millenium . There could have been an implementation of major safety regulations which saw a major shift in air safety culture following high profile crashes. Similarly from the trend of the total uninjured below, we see a lot more spikes in the 1980s and 1990s as opposed to the post 2000 period. This implies there have been less aviation accidents/incidents in the post 2000 period which corroborates our findings as aforementioned. "
   ]
  },
  {
   "cell_type": "code",
   "execution_count": 340,
   "metadata": {},
   "outputs": [
    {
     "data": {
      "image/png": "[encoded data removed]",
      "text/plain": [
       "<Figure size 1080x576 with 1 Axes>"
      ]
     },
     "metadata": {
      "needs_background": "light"
     },
     "output_type": "display_data"
    }
   ],
   "source": [
    "#Time series plot showing the trend of total uninjured persons over time\n",
    "\n",
    "fig , ax =plt.subplots(figsize = (15,8))\n",
    "\n",
    "\n",
    "ax.plot(modified_aviation_df_2[\"Event_Date\"],modified_aviation_df_2[\"Total_Uninjured\"], color='orange', label='Total Uninjured',alpha = 0.5);\n",
    "\n",
    "ax.set_title(\"Trend of total uninjured after aircraft incident/accident \")\n",
    "ax.set_xlabel(\"Year\")\n",
    "ax.set_ylabel(\"No of uninjured persons\")\n",
    "ax.legend();"
   ]
  },
  {
   "cell_type": "markdown",
   "metadata": {},
   "source": [
    "As a result, we will only use the data from 2000 to date. This will provide us with a good balance between being recent enough to reflect modern technology and safety regulations as well as long enough to capture meaningful data relating to the accidents/incidents. \n",
    "\n",
    "#### Generating new dataset for the period (2000 - 2023)\n",
    "\n",
    "The new dataset is generated by filtering the event date i.e. where the event date is later than 1 Jan 2000."
   ]
  },
  {
   "cell_type": "code",
   "execution_count": 341,
   "metadata": {},
   "outputs": [
    {
     "data": {
      "text/html": [
       "<div>\n",
       "<style scoped>\n",
       "    .dataframe tbody tr th:only-of-type {\n",
       "        vertical-align: middle;\n",
       "    }\n",
       "\n",
       "    .dataframe tbody tr th {\n",
       "        vertical-align: top;\n",
       "    }\n",
       "\n",
       "    .dataframe thead th {\n",
       "        text-align: right;\n",
       "    }\n",
       "</style>\n",
       "<table border=\"1\" class=\"dataframe\">\n",
       "  <thead>\n",
       "    <tr style=\"text-align: right;\">\n",
       "      <th></th>\n",
       "      <th>Make</th>\n",
       "      <th>Model</th>\n",
       "      <th>Investigation_Type</th>\n",
       "      <th>Event_Date</th>\n",
       "      <th>Aircraft_damage</th>\n",
       "      <th>Amateur_Built</th>\n",
       "      <th>Number_of_Engines</th>\n",
       "      <th>Engine_Type</th>\n",
       "      <th>Purpose_of_flight</th>\n",
       "      <th>Total_Fatal_Injuries</th>\n",
       "      <th>Total_Serious_Injuries</th>\n",
       "      <th>Total_Minor_Injuries</th>\n",
       "      <th>Total_Uninjured</th>\n",
       "    </tr>\n",
       "  </thead>\n",
       "  <tbody>\n",
       "    <tr>\n",
       "      <th>47677</th>\n",
       "      <td>cessna</td>\n",
       "      <td>172G</td>\n",
       "      <td>Accident</td>\n",
       "      <td>2000-02-01</td>\n",
       "      <td>Substantial</td>\n",
       "      <td>No</td>\n",
       "      <td>1.0</td>\n",
       "      <td>reciprocating</td>\n",
       "      <td>Personal</td>\n",
       "      <td>0.0</td>\n",
       "      <td>0.0</td>\n",
       "      <td>0.0</td>\n",
       "      <td>2.0</td>\n",
       "    </tr>\n",
       "    <tr>\n",
       "      <th>47678</th>\n",
       "      <td>cessna</td>\n",
       "      <td>172A</td>\n",
       "      <td>Accident</td>\n",
       "      <td>2000-02-01</td>\n",
       "      <td>Substantial</td>\n",
       "      <td>No</td>\n",
       "      <td>1.0</td>\n",
       "      <td>reciprocating</td>\n",
       "      <td>Instructional</td>\n",
       "      <td>0.0</td>\n",
       "      <td>0.0</td>\n",
       "      <td>1.0</td>\n",
       "      <td>0.0</td>\n",
       "    </tr>\n",
       "    <tr>\n",
       "      <th>47679</th>\n",
       "      <td>piper</td>\n",
       "      <td>PA-46-310P</td>\n",
       "      <td>Accident</td>\n",
       "      <td>2000-02-01</td>\n",
       "      <td>Substantial</td>\n",
       "      <td>No</td>\n",
       "      <td>1.0</td>\n",
       "      <td>turbo prop</td>\n",
       "      <td>Personal</td>\n",
       "      <td>0.0</td>\n",
       "      <td>0.0</td>\n",
       "      <td>0.0</td>\n",
       "      <td>5.0</td>\n",
       "    </tr>\n",
       "    <tr>\n",
       "      <th>47680</th>\n",
       "      <td>piper</td>\n",
       "      <td>PA-46-310P</td>\n",
       "      <td>Accident</td>\n",
       "      <td>2000-02-01</td>\n",
       "      <td>Substantial</td>\n",
       "      <td>No</td>\n",
       "      <td>1.0</td>\n",
       "      <td>reciprocating</td>\n",
       "      <td>Personal</td>\n",
       "      <td>0.0</td>\n",
       "      <td>0.0</td>\n",
       "      <td>0.0</td>\n",
       "      <td>2.0</td>\n",
       "    </tr>\n",
       "    <tr>\n",
       "      <th>47681</th>\n",
       "      <td>cessna</td>\n",
       "      <td>421B</td>\n",
       "      <td>Accident</td>\n",
       "      <td>2000-02-01</td>\n",
       "      <td>Destroyed</td>\n",
       "      <td>No</td>\n",
       "      <td>2.0</td>\n",
       "      <td>reciprocating</td>\n",
       "      <td>Personal</td>\n",
       "      <td>1.0</td>\n",
       "      <td>0.0</td>\n",
       "      <td>0.0</td>\n",
       "      <td>0.0</td>\n",
       "    </tr>\n",
       "  </tbody>\n",
       "</table>\n",
       "</div>"
      ],
      "text/plain": [
       "         Make       Model Investigation_Type Event_Date Aircraft_damage  \\\n",
       "47677  cessna        172G           Accident 2000-02-01     Substantial   \n",
       "47678  cessna        172A           Accident 2000-02-01     Substantial   \n",
       "47679   piper  PA-46-310P           Accident 2000-02-01     Substantial   \n",
       "47680   piper  PA-46-310P           Accident 2000-02-01     Substantial   \n",
       "47681  cessna        421B           Accident 2000-02-01       Destroyed   \n",
       "\n",
       "      Amateur_Built  Number_of_Engines    Engine_Type Purpose_of_flight  \\\n",
       "47677            No                1.0  reciprocating          Personal   \n",
       "47678            No                1.0  reciprocating     Instructional   \n",
       "47679            No                1.0     turbo prop          Personal   \n",
       "47680            No                1.0  reciprocating          Personal   \n",
       "47681            No                2.0  reciprocating          Personal   \n",
       "\n",
       "       Total_Fatal_Injuries  Total_Serious_Injuries  Total_Minor_Injuries  \\\n",
       "47677                   0.0                     0.0                   0.0   \n",
       "47678                   0.0                     0.0                   1.0   \n",
       "47679                   0.0                     0.0                   0.0   \n",
       "47680                   0.0                     0.0                   0.0   \n",
       "47681                   1.0                     0.0                   0.0   \n",
       "\n",
       "       Total_Uninjured  \n",
       "47677              2.0  \n",
       "47678              0.0  \n",
       "47679              5.0  \n",
       "47680              2.0  \n",
       "47681              0.0  "
      ]
     },
     "execution_count": 341,
     "metadata": {},
     "output_type": "execute_result"
    }
   ],
   "source": [
    "# new dataframe that captures only the dataset from 1 Jan 2000 to date. \n",
    "\n",
    "filtered_df = modified_aviation_df_2[modified_aviation_df_2['Event_Date'] > '2000-01-01']\n",
    "filtered_df.head()\n"
   ]
  },
  {
   "cell_type": "markdown",
   "metadata": {},
   "source": [
    "As always, it's great to have a summary of the newly created dataframe. We can obsere that the number of rows have reduced to roughly 26,000 from the 63,500 rows we started with. Also, all the characteristics of the columns are as expected so we will delve deep into the data and establish the relationships between the various aircraft characterictics and injuries."
   ]
  },
  {
   "cell_type": "code",
   "execution_count": 342,
   "metadata": {},
   "outputs": [
    {
     "data": {
      "text/plain": [
       "(25933, 13)"
      ]
     },
     "execution_count": 342,
     "metadata": {},
     "output_type": "execute_result"
    }
   ],
   "source": [
    "#Provides us with the dimensions of the filtered dataframe\n",
    "\n",
    "filtered_df.shape"
   ]
  },
  {
   "cell_type": "code",
   "execution_count": 343,
   "metadata": {},
   "outputs": [
    {
     "name": "stdout",
     "output_type": "stream",
     "text": [
      "<class 'pandas.core.frame.DataFrame'>\n",
      "Int64Index: 25933 entries, 47677 to 88767\n",
      "Data columns (total 13 columns):\n",
      " #   Column                  Non-Null Count  Dtype         \n",
      "---  ------                  --------------  -----         \n",
      " 0   Make                    25933 non-null  object        \n",
      " 1   Model                   25933 non-null  object        \n",
      " 2   Investigation_Type      25933 non-null  object        \n",
      " 3   Event_Date              25933 non-null  datetime64[ns]\n",
      " 4   Aircraft_damage         25933 non-null  object        \n",
      " 5   Amateur_Built           25933 non-null  object        \n",
      " 6   Number_of_Engines       25933 non-null  float64       \n",
      " 7   Engine_Type             25933 non-null  object        \n",
      " 8   Purpose_of_flight       25933 non-null  object        \n",
      " 9   Total_Fatal_Injuries    25933 non-null  float64       \n",
      " 10  Total_Serious_Injuries  25933 non-null  float64       \n",
      " 11  Total_Minor_Injuries    25933 non-null  float64       \n",
      " 12  Total_Uninjured         25933 non-null  float64       \n",
      "dtypes: datetime64[ns](1), float64(5), object(7)\n",
      "memory usage: 2.8+ MB\n"
     ]
    }
   ],
   "source": [
    "#Gives a summary overview of columns in the dataframe with their corresponding data types.\n",
    "\n",
    "filtered_df.info()"
   ]
  },
  {
   "cell_type": "markdown",
   "metadata": {},
   "source": [
    "#### 1. Relationship between Total Fatal Injuries & Total Uninjured and Engine type\n",
    "\n",
    "We will plot two barcharts side by side to check if there is any relationship between engine type and aviation fatal injuries. "
   ]
  },
  {
   "cell_type": "code",
   "execution_count": 344,
   "metadata": {},
   "outputs": [
    {
     "data": {
      "image/png": "[encoded data removed]",
      "text/plain": [
       "<Figure size 864x576 with 2 Axes>"
      ]
     },
     "metadata": {
      "needs_background": "light"
     },
     "output_type": "display_data"
    }
   ],
   "source": [
    "# Side by side bar chart to show comparison if the fatal injuries and uninjured persons vs engine type  \n",
    "\n",
    "fig, ax = plt.subplots(1,2, figsize = (12,8))\n",
    "\n",
    "\n",
    "ax[0].bar(filtered_df[\"Engine_Type\"],filtered_df[\"Total_Fatal_Injuries\"])\n",
    "ax[0].set_title('Bar Chart - Total Fatal Injuries')\n",
    "ax[0].set_xlabel('Engine Type')\n",
    "ax[0].set_ylabel('No of Injured people')\n",
    "ax[0].tick_params(axis=\"x\", labelrotation= 45)\n",
    "\n",
    "ax[1].bar(filtered_df[\"Engine_Type\"],filtered_df[\"Total_Uninjured\"])\n",
    "ax[1].set_title('Bar Chart - Total Uninjured')\n",
    "ax[1].set_xlabel('Engine Type')\n",
    "ax[1].set_ylabel('No of Uninjured people')\n",
    "ax[1].tick_params(axis=\"x\", labelrotation= 45);\n"
   ]
  },
  {
   "cell_type": "markdown",
   "metadata": {},
   "source": [
    "As can be observed,  the **turbo fan** engine had the highest number of uninjured persons while the **reciprocating** engine had the lowest number. On the other hand, in terms of fatalities, the **turbo prop** engine had the highest number of fatal injuries with the **turbo jet** having the least number. Thus, it does seem engine type goes a long way in determining the number of fatal injuries. Engines with a higher safety record tend to have lower fatal injuries. These engines, such as the turbo fan, would be the most preferred option for a company getting into the industry to reduce it's initial liability.\n",
    "\n",
    "#### 2. Relationship between Total Fatal Injuries & Total Uninjured and No. of Engines\n",
    "\n",
    "As we have determined that the engine type plays a role in the number of fatal injuries, we will take it a notch higher and check for any relationship between fatal injuries, uninjured and no. of engines. Similarly, to assist with this analysis, two barcharts will be plotted side by side as highlighted below:\n"
   ]
  },
  {
   "cell_type": "code",
   "execution_count": 345,
   "metadata": {},
   "outputs": [
    {
     "data": {
      "image/png": "[encoded data removed]",
      "text/plain": [
       "<Figure size 864x576 with 2 Axes>"
      ]
     },
     "metadata": {
      "needs_background": "light"
     },
     "output_type": "display_data"
    }
   ],
   "source": [
    "# Side by side bar chart to show comparison if the fatal injuries and uninjured persons vs No. of engines  \n",
    "\n",
    "fig, ax = plt.subplots(1,2, figsize = (12,8))\n",
    "\n",
    "ax[0].bar(filtered_df[\"Number_of_Engines\"],filtered_df[\"Total_Fatal_Injuries\"])\n",
    "ax[0].set_title('Total Fatal Injuries - No of Engines ') \n",
    "ax[0].set_xlabel('No. of Engines')\n",
    "ax[0].set_ylabel('No of Injured people')\n",
    "\n",
    "\n",
    "ax[1].bar(filtered_df[\"Number_of_Engines\"],filtered_df[\"Total_Uninjured\"])\n",
    "ax[1].set_title('Total Uninjured - No of Engines')\n",
    "ax[1].set_xlabel('No. of Engines')\n",
    "ax[1].set_ylabel('No of Uninjured people');\n",
    "\n"
   ]
  },
  {
   "cell_type": "markdown",
   "metadata": {},
   "source": [
    "From the graphs above, we can see that the relationship is much more clearer this time around when compared to the engine type comparisons. Aircrafts with three engines had the highest number of uninjured persons and no total fatal injuries. On the other hand, aircraft with one engine had the leading number of total fatal injuries with the minimum number of uninjured persons. Thus, the company needs to ensure that they go for a plane with the number of engines that reduces the number of fatal injuries, in this case that would be planes with three engines.  \n",
    "\n",
    "\n",
    "\n",
    "#### 3. Relationship between Purpose of flight and Total Fatal Injuries\n",
    "\n",
    "Finally, we will look into whether the purpose of flying is related to the total fatal injuries. To do so we will plot a bargraph as follows:\n"
   ]
  },
  {
   "cell_type": "code",
   "execution_count": 346,
   "metadata": {},
   "outputs": [
    {
     "data": {
      "image/png": "[encoded data removed]",
      "text/plain": [
       "<Figure size 864x576 with 1 Axes>"
      ]
     },
     "metadata": {
      "needs_background": "light"
     },
     "output_type": "display_data"
    }
   ],
   "source": [
    "# Bar chart to show if there is any relationship between purpose of flying and total fatal injuries\n",
    "\n",
    "fig, ax = plt.subplots(figsize = (12,8))\n",
    "\n",
    "ax.bar(filtered_df[\"Purpose_of_flight\"],filtered_df[\"Total_Fatal_Injuries\"])\n",
    "\n",
    "ax.set_title(\"Purpose of Flight against Total Fatal Injuries\")\n",
    "ax.set_xlabel(\"Purpose of Flight\")\n",
    "ax.set_ylabel(\"No of Fatal Injuries\")\n",
    "\n",
    "ax.tick_params(axis=\"x\", labelrotation= 90);"
   ]
  },
  {
   "cell_type": "markdown",
   "metadata": {},
   "source": [
    "From the bargraph above, we can observe that personal flying had the highest incidences of fatal injuries with 14 fatal injuries followed by sky diving with 11 fatal injuries. Business and Executive /Corportae are tied at third place with 11 fatal injuries. Another interesting observation is nstructional,observation and aerial observation seem to be tied at 5 fatal injuries.\n",
    "\n",
    "Something to note is that causality is not always causation. It could mean that there a lot more people using planes for personal reasons leading to more fatal injuries. However, it is difficult to deduce this given the nature of the dataset that we are dealing with.\n",
    "\n",
    "## Business Recommendation\n",
    "\n",
    "\n",
    "The business recommendations are based on the data provided and the analysis done on the data. Please note, other considerations such as purchase cost, servicing costs, insurance costs etc will not be not taken into account as they were no present in the data used for this analysis. The recommendations are centered on passenge safetyy and reduced liability to the company in the event of an accident/incident.\n",
    "\n",
    "The following are the business recommendations for the company:\n",
    "\n",
    "- **Engine Type**: The company should go for an aircraft with a turbo fan engine. From the analysis, this is the safest engine with the highest number of persons uninjured following an aviation incident/accident. Even though it wasn't the lowest in terms of fatal injuries, there was a really small difference with the engine with the least fatal injuries, the turbo jet engine.\n",
    "\n",
    "\n",
    "- **No of Engines**: The company should invest in an aircraft that has 3 engines. We have seen from the analysis that this is the engine that offers the perfect combination i.e has the lowest number of fatal injuries and the highest number of uninjured persons in the event of an accident/incident. As a company making an entry into the aviation industry, this would limit its liability and minimize the probability of huge payoffs in the event of an accident/incident.\n",
    "\n",
    " \n",
    "- **Airline business**: In terms of which flying business to venture in, the company has few options listed below:\n",
    "         - Business\n",
    "         - Positioning\n",
    "         - Executive/Corporate\n",
    "         - Aerial Application\n",
    "Main reason behind these choices is that the planes that meeet the first two business recommendations tend to operate in these businesses. Given the company is a new entrant to the aviation industry and the scope of the data used in the analysis, it would be prudent to observe and research on these different flying business ventures from existing players to determine which of the above choices would suit it the best. \n",
    "      \n",
    "Finally, based on the three recommendations above, the following aircraft makes fit the bill for the company to venture into the aviation industry with:\n",
    "\n",
    "    - Dassault Aviation\n",
    "    - Mcdonell Douglas\n",
    "    - Dassault Bregguet\n",
    "    \n",
    "  The choice of model will depend on the aircraft business venture that the company would like to get into. Here's a summary table below: \n",
    " \n",
    " **Note**: Assumption made that the aircraft will be insured hence aircraft damage will always be handled by the insurance company. \n",
    " "
   ]
  },
  {
   "cell_type": "code",
   "execution_count": 347,
   "metadata": {},
   "outputs": [
    {
     "data": {
      "text/html": [
       "<div>\n",
       "<style scoped>\n",
       "    .dataframe tbody tr th:only-of-type {\n",
       "        vertical-align: middle;\n",
       "    }\n",
       "\n",
       "    .dataframe tbody tr th {\n",
       "        vertical-align: top;\n",
       "    }\n",
       "\n",
       "    .dataframe thead th {\n",
       "        text-align: right;\n",
       "    }\n",
       "</style>\n",
       "<table border=\"1\" class=\"dataframe\">\n",
       "  <thead>\n",
       "    <tr style=\"text-align: right;\">\n",
       "      <th></th>\n",
       "      <th>Make</th>\n",
       "      <th>Model</th>\n",
       "      <th>Investigation_Type</th>\n",
       "      <th>Event_Date</th>\n",
       "      <th>Aircraft_damage</th>\n",
       "      <th>Amateur_Built</th>\n",
       "      <th>Number_of_Engines</th>\n",
       "      <th>Engine_Type</th>\n",
       "      <th>Purpose_of_flight</th>\n",
       "      <th>Total_Fatal_Injuries</th>\n",
       "      <th>Total_Serious_Injuries</th>\n",
       "      <th>Total_Minor_Injuries</th>\n",
       "      <th>Total_Uninjured</th>\n",
       "    </tr>\n",
       "  </thead>\n",
       "  <tbody>\n",
       "    <tr>\n",
       "      <th>54666</th>\n",
       "      <td>dassault aviation</td>\n",
       "      <td>DA-50</td>\n",
       "      <td>Accident</td>\n",
       "      <td>2003-05-21</td>\n",
       "      <td>Minor</td>\n",
       "      <td>No</td>\n",
       "      <td>3.0</td>\n",
       "      <td>turbo fan</td>\n",
       "      <td>Business</td>\n",
       "      <td>0.0</td>\n",
       "      <td>0.0</td>\n",
       "      <td>1.0</td>\n",
       "      <td>17.0</td>\n",
       "    </tr>\n",
       "    <tr>\n",
       "      <th>56476</th>\n",
       "      <td>mcdonnell douglas</td>\n",
       "      <td>DC-10-30</td>\n",
       "      <td>Accident</td>\n",
       "      <td>2004-10-04</td>\n",
       "      <td>Substantial</td>\n",
       "      <td>No</td>\n",
       "      <td>3.0</td>\n",
       "      <td>turbo fan</td>\n",
       "      <td>Public Aircraft</td>\n",
       "      <td>0.0</td>\n",
       "      <td>0.0</td>\n",
       "      <td>0.0</td>\n",
       "      <td>252.0</td>\n",
       "    </tr>\n",
       "    <tr>\n",
       "      <th>60269</th>\n",
       "      <td>dassault aviation</td>\n",
       "      <td>Falcon 900EX</td>\n",
       "      <td>Incident</td>\n",
       "      <td>2006-03-03</td>\n",
       "      <td>Minor</td>\n",
       "      <td>No</td>\n",
       "      <td>3.0</td>\n",
       "      <td>turbo fan</td>\n",
       "      <td>Business</td>\n",
       "      <td>0.0</td>\n",
       "      <td>0.0</td>\n",
       "      <td>0.0</td>\n",
       "      <td>3.0</td>\n",
       "    </tr>\n",
       "    <tr>\n",
       "      <th>62221</th>\n",
       "      <td>dassault aviation</td>\n",
       "      <td>Mystere Falcon 900C</td>\n",
       "      <td>Accident</td>\n",
       "      <td>2007-03-23</td>\n",
       "      <td>Substantial</td>\n",
       "      <td>No</td>\n",
       "      <td>3.0</td>\n",
       "      <td>turbo fan</td>\n",
       "      <td>Positioning</td>\n",
       "      <td>0.0</td>\n",
       "      <td>0.0</td>\n",
       "      <td>0.0</td>\n",
       "      <td>3.0</td>\n",
       "    </tr>\n",
       "    <tr>\n",
       "      <th>62673</th>\n",
       "      <td>dassault-breguet</td>\n",
       "      <td>Mystere Falcon 900</td>\n",
       "      <td>Accident</td>\n",
       "      <td>2007-10-06</td>\n",
       "      <td>Substantial</td>\n",
       "      <td>No</td>\n",
       "      <td>3.0</td>\n",
       "      <td>turbo fan</td>\n",
       "      <td>Executive/corporate</td>\n",
       "      <td>0.0</td>\n",
       "      <td>0.0</td>\n",
       "      <td>0.0</td>\n",
       "      <td>15.0</td>\n",
       "    </tr>\n",
       "    <tr>\n",
       "      <th>62783</th>\n",
       "      <td>mcdonnell douglas</td>\n",
       "      <td>DC 10-10</td>\n",
       "      <td>Accident</td>\n",
       "      <td>2007-06-25</td>\n",
       "      <td>Substantial</td>\n",
       "      <td>No</td>\n",
       "      <td>3.0</td>\n",
       "      <td>turbo fan</td>\n",
       "      <td>Aerial Application</td>\n",
       "      <td>0.0</td>\n",
       "      <td>0.0</td>\n",
       "      <td>0.0</td>\n",
       "      <td>3.0</td>\n",
       "    </tr>\n",
       "    <tr>\n",
       "      <th>63464</th>\n",
       "      <td>dassault aviation</td>\n",
       "      <td>Mystere Falcon 900</td>\n",
       "      <td>Accident</td>\n",
       "      <td>2007-09-28</td>\n",
       "      <td>Substantial</td>\n",
       "      <td>No</td>\n",
       "      <td>3.0</td>\n",
       "      <td>turbo fan</td>\n",
       "      <td>Executive/corporate</td>\n",
       "      <td>0.0</td>\n",
       "      <td>0.0</td>\n",
       "      <td>0.0</td>\n",
       "      <td>7.0</td>\n",
       "    </tr>\n",
       "    <tr>\n",
       "      <th>76516</th>\n",
       "      <td>dassault-breguet</td>\n",
       "      <td>MYSTERE FALCON 900</td>\n",
       "      <td>Incident</td>\n",
       "      <td>2015-04-16</td>\n",
       "      <td>Minor</td>\n",
       "      <td>No</td>\n",
       "      <td>3.0</td>\n",
       "      <td>turbo fan</td>\n",
       "      <td>Executive/corporate</td>\n",
       "      <td>0.0</td>\n",
       "      <td>0.0</td>\n",
       "      <td>0.0</td>\n",
       "      <td>15.0</td>\n",
       "    </tr>\n",
       "  </tbody>\n",
       "</table>\n",
       "</div>"
      ],
      "text/plain": [
       "                    Make                Model Investigation_Type Event_Date  \\\n",
       "54666  dassault aviation                DA-50           Accident 2003-05-21   \n",
       "56476  mcdonnell douglas             DC-10-30           Accident 2004-10-04   \n",
       "60269  dassault aviation         Falcon 900EX           Incident 2006-03-03   \n",
       "62221  dassault aviation  Mystere Falcon 900C           Accident 2007-03-23   \n",
       "62673   dassault-breguet   Mystere Falcon 900           Accident 2007-10-06   \n",
       "62783  mcdonnell douglas             DC 10-10           Accident 2007-06-25   \n",
       "63464  dassault aviation   Mystere Falcon 900           Accident 2007-09-28   \n",
       "76516   dassault-breguet   MYSTERE FALCON 900           Incident 2015-04-16   \n",
       "\n",
       "      Aircraft_damage Amateur_Built  Number_of_Engines Engine_Type  \\\n",
       "54666           Minor            No                3.0   turbo fan   \n",
       "56476     Substantial            No                3.0   turbo fan   \n",
       "60269           Minor            No                3.0   turbo fan   \n",
       "62221     Substantial            No                3.0   turbo fan   \n",
       "62673     Substantial            No                3.0   turbo fan   \n",
       "62783     Substantial            No                3.0   turbo fan   \n",
       "63464     Substantial            No                3.0   turbo fan   \n",
       "76516           Minor            No                3.0   turbo fan   \n",
       "\n",
       "         Purpose_of_flight  Total_Fatal_Injuries  Total_Serious_Injuries  \\\n",
       "54666             Business                   0.0                     0.0   \n",
       "56476      Public Aircraft                   0.0                     0.0   \n",
       "60269             Business                   0.0                     0.0   \n",
       "62221          Positioning                   0.0                     0.0   \n",
       "62673  Executive/corporate                   0.0                     0.0   \n",
       "62783   Aerial Application                   0.0                     0.0   \n",
       "63464  Executive/corporate                   0.0                     0.0   \n",
       "76516  Executive/corporate                   0.0                     0.0   \n",
       "\n",
       "       Total_Minor_Injuries  Total_Uninjured  \n",
       "54666                   1.0             17.0  \n",
       "56476                   0.0            252.0  \n",
       "60269                   0.0              3.0  \n",
       "62221                   0.0              3.0  \n",
       "62673                   0.0             15.0  \n",
       "62783                   0.0              3.0  \n",
       "63464                   0.0              7.0  \n",
       "76516                   0.0             15.0  "
      ]
     },
     "execution_count": 347,
     "metadata": {},
     "output_type": "execute_result"
    }
   ],
   "source": [
    "#Filter to get the make and models of planes which meet the business criteria.\n",
    "\n",
    "filt_4 = (filtered_df[\"Engine_Type\"] == \"turbo fan\") & (filtered_df[\"Number_of_Engines\"] == 3)\n",
    "filtered_df_1 = filtered_df[filt_4]\n",
    "filtered_df_1"
   ]
  },
  {
   "cell_type": "code",
   "execution_count": 348,
   "metadata": {},
   "outputs": [],
   "source": [
    "# Export the modified data to be used in Tableau for additional visualizations\n",
    "\n",
    "filtered_df.to_csv('AviationData_Modified.csv')"
   ]
  },
  {
   "cell_type": "markdown",
   "metadata": {},
   "source": [
    "## Conclusion:\n",
    "\n",
    "The proposal has looked at civil aviation accidents and selected incidents in the United States and international waters from 2000 to 2023 to determine the models of aircrafts that are the lowest risk for a company to venture into the aviation industry with. Engine type and number of engines were found to influence the number of total fatal injuries following an accident/incident. Aircrafts with turbo fan engine type and 3 engines tend to be the lowest risk. The purpose of flying on the other hand, was inconclusive given the dataset provided was missing the frequency of flights. Thus, the company is open to trying different airline businesses such as business, positioning, Executive/Corporate, Aerial applications in which this these low risk aircraft operate. The proposal determined eight aircraft models under the dassault aviation, mcdonnell douglas and dassault-breguet makes which were low risk. Choice of model would be influenced by the line of business the company intends to venture into. Finally, there are additional considerations that the company needs to take into account which have not been touched on in this proposal, due to data limitations, such as purchase cost, servicing costs, servicing history, insurance costs as well as localising the data to the business environment that the company intends to operate in.  "
   ]
  }
 ],
 "metadata": {
  "kernelspec": {
   "display_name": "Python (learn-env)",
   "language": "python",
   "name": "learn-env"
  },
  "language_info": {
   "codemirror_mode": {
    "name": "ipython",
    "version": 3
   },
   "file_extension": ".py",
   "mimetype": "text/x-python",
   "name": "python",
   "nbconvert_exporter": "python",
   "pygments_lexer": "ipython3",
   "version": "3.8.5"
  }
 },
 "nbformat": 4,
 "nbformat_minor": 4
}
